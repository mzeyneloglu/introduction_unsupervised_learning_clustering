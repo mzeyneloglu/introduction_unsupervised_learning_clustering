{
 "cells": [
  {
   "cell_type": "markdown",
   "id": "92cbb06a",
   "metadata": {},
   "source": [
    "# Introduction Unsupervised Learning\n",
    "\n",
    "Unsupervised learning is a class of machine learning techniques for discovering patterns in data.\n",
    "\n",
    "In supervised learning, our goal is to represent the target variable in the data set, and in doing so, we use variables other than the target variable.\n",
    "\n",
    "<img src = \"https://miro.medium.com/max/433/1*Iihw0V-r0raMMtcDTFGGQA.png\" width = 500 heigth = 500></img>\n",
    "\n",
    "In unsupervised learning, we have no target variables. Our goal is to find out which pattern fits when a data comes in that we are going to test. We have the two most common techniques when performing them. Apart from these, there are many more techniques;\n",
    "- [KMeans](#0)\n",
    "- [Hiararchical Clustering](#1)\n",
    "- [t-SNE](#2)\n",
    "- [PCA](#3)\n",
    "\n",
    "Let's go into a little more detail.Let's imagine that we can give 3 different salaries to the employees of our company. We want to know which of these 3 salary value groups the newcomer will fall into. First of all, we do not have a target variable. Whether our data set is pre-employment information such as the working hours of the employees of the company, how long they have been with the company, the duration of their experience before entering the job or their graduation grades from the university. By looking at these values, we try to decide which of the 3 values his salary will be.\n",
    "\n",
    "Let's use one of the unsupervised learning techniques, such as the KMeans algorithm, and train with the data we have. What will be the result?\n",
    "\n",
    "Looking at the data, I will say that each observation consists of 3 salaries, that these are our classes, now I will say class. It will place it in our classrooms. We can visualize them much better with visualization tools. Since the data is grouped by classes, we make a prediction when a new person arrives and find out which class they belong to. Then we can now determine the salary of our employee."
   ]
  },
  {
   "cell_type": "code",
   "execution_count": 241,
   "id": "6fa424ab",
   "metadata": {},
   "outputs": [],
   "source": [
    "import pandas as pd\n",
    "import matplotlib.pyplot as plt\n",
    "import seaborn as sns\n",
    "import warnings\n",
    "warnings.filterwarnings('ignore')\n",
    "\n",
    "\n",
    "# KMeans\n",
    "from sklearn.datasets import make_blobs\n",
    "from sklearn.cluster import KMeans\n",
    "from sklearn.preprocessing import normalize\n",
    "from sklearn.metrics import silhouette_score\n",
    "from kneed import KneeLocator\n",
    "\n",
    "# Hierarchical Clustering\n",
    "from scipy.cluster.hierarchy import linkage ,dendrogram,fcluster\n",
    "\n",
    "# t-SNE\n",
    "from sklearn.manifold import TSNE\n",
    "\n",
    "# PCA\n",
    "from sklearn.decomposition import PCA\n",
    "from sklearn.preprocessing import LabelEncoder"
   ]
  },
  {
   "cell_type": "markdown",
   "id": "756911b8",
   "metadata": {},
   "source": [
    "## <a name=\"0\">KMeans</a>\n",
    "\n",
    "Traditional k-tools require only a few steps. The first step is to randomly select k centers, where k is equal to the number of sets you select. Centroids are data points that represent the center of a cluster.\n",
    "\n",
    "The main element of the algorithm works through a two-step process called expectation-maximization. The Expectation step assigns each data point to the nearest center point. Next, the maximization step calculates the average of all points for each set and sets the new center of gravity.\n",
    "The quality of cluster assignments is determined by calculating the sum of the [**squared error (SSE) after the centers have **merged** or matched the assignment of the previous iteration.**](https://en.wikipedia.org/wiki/Residual_sum_of_squares) SSE is defined as the sum of the square Euclidean distances to the nearest center point of each point. Since this is a measure of error, the purpose of the _k_ -tools is to try to minimize this value.\n",
    "\n",
    "The following figure shows the centroids and SSE update through the first five iterations from two different runs of the _k_-means algorithm in the same dataset:\n",
    "\n",
    "<img src = \"https://files.realpython.com/media/centroids_iterations.247379590275.gif\" width = 400 heigth = 400></img>\n",
    "\n",
    "The purpose of this figure is to show that the initiation of centroids is an important step. It also highlights the use of SSE as a measure of clustering performance. After a series of sets and initial centers are selected, the expectation-maximization step is repeated until the center positions reach convergence and remain unchanged.\n",
    "\n",
    "A random initialization step causes the _k_ -means algorithm to be **non-deterministic*; this means that if you run the same algorithm twice on the same dataset, the cluster assignments will change. Researchers typically run several initializations of the entire _k_-tool algorithm and select cluster assignments without initializing with the lowest SSE.\n",
    "\n",
    "Now that we have an idea on the KMeans algorithm, let's move on to the application!"
   ]
  },
  {
   "cell_type": "markdown",
   "id": "464cf7c3",
   "metadata": {},
   "source": [
    "``make_blobs()`` is a convenience function in scikit-learn used to create synthetic sets.**make_blobs()** uses the following parameters:\n",
    "\n",
    "- **'n_samples'**is the total number of instances to be created.\n",
    "- **'centers** is the number of centers to be created.\n",
    "- **'cluster_std'**is the standard deviation.\n",
    "\n",
    "'make_blobs()' returns a bucket of two values:\n",
    "\n",
    "1. A two-dimensional NumPy array with **x and y values** for each of the examples\n",
    "2. A one-dimensional NumPy array containing the **cluster tags** for each instance"
   ]
  },
  {
   "cell_type": "code",
   "execution_count": 77,
   "id": "c98f1dbf",
   "metadata": {},
   "outputs": [],
   "source": [
    "inputs , labels = make_blobs(n_samples=200,\n",
    "                             centers = 3,\n",
    "                             cluster_std = 2.75,\n",
    "                             random_state = 42)"
   ]
  },
  {
   "cell_type": "code",
   "execution_count": 78,
   "id": "af872c32",
   "metadata": {},
   "outputs": [
    {
     "data": {
      "text/plain": [
       "array([[  9.77075874,   3.27621022],\n",
       "       [ -9.71349666,  11.27451802],\n",
       "       [ -6.91330582,  -9.34755911],\n",
       "       [-10.86185913, -10.75063497],\n",
       "       [ -8.50038027,  -4.54370383]])"
      ]
     },
     "execution_count": 78,
     "metadata": {},
     "output_type": "execute_result"
    }
   ],
   "source": [
    "inputs[:5]"
   ]
  },
  {
   "cell_type": "code",
   "execution_count": 79,
   "id": "6b9ba67c",
   "metadata": {},
   "outputs": [
    {
     "data": {
      "text/plain": [
       "array([1, 0, 2, 2, 2])"
      ]
     },
     "execution_count": 79,
     "metadata": {},
     "output_type": "execute_result"
    }
   ],
   "source": [
    "labels[:5]"
   ]
  },
  {
   "cell_type": "markdown",
   "id": "c5871553",
   "metadata": {},
   "source": [
    "Our ``labels`` values ​​are our values ​​that we will not use in education. They are there to compare the estimates.\n",
    "\n",
    "There are **true_labels** values ​​for each value in the ``inputs`` array.\n",
    "- [ 9.77075874, 3.27621022] = 1\n",
    "- [ -9.71349666, 11.27451802] = 0\n",
    "* ...\n",
    "\n",
    "Datasets often contain numerical features measured in different units, such as height (inches) and weight (pounds). A machine learning algorithm considers weight to be more important than height only because weight values ​​are larger and have higher variability from person to person. Machine learning algorithms need to consider all attributes on an even playing field. This means that the values ​​of all properties must be converted to the same scale.\n",
    "\n",
    "The process of converting numeric features to use the same scale is known as feature scaling. It is an important data preprocessing step for most distance-based machine learning algorithms as it can have a significant impact on the performance of your algorithm. Examples of these algorithms can be KNN , LogisticRegression , SupporVectorMachines, ANN in supervised learning. In unsupervised learning, we can give an example of the KMeans algorithm."
   ]
  },
  {
   "cell_type": "code",
   "execution_count": 80,
   "id": "223d63ae",
   "metadata": {},
   "outputs": [],
   "source": [
    "scaled_inputs = normalize(inputs)"
   ]
  },
  {
   "cell_type": "code",
   "execution_count": 81,
   "id": "80dcbb1b",
   "metadata": {},
   "outputs": [
    {
     "data": {
      "text/plain": [
       "array([[ 0.94812023,  0.31791197],\n",
       "       [-0.65271156,  0.75760651],\n",
       "       [-0.5946269 , -0.80400177],\n",
       "       [-0.71073635, -0.70345849],\n",
       "       [-0.88191454, -0.47140932]])"
      ]
     },
     "execution_count": 81,
     "metadata": {},
     "output_type": "execute_result"
    }
   ],
   "source": [
    "scaled_inputs[:5]"
   ]
  },
  {
   "cell_type": "markdown",
   "id": "f397a317",
   "metadata": {},
   "source": [
    "Now the data is ready to cluster. The estimator class in scikit-learn is where you set algorithm parameters before fitting the 'KMeans' estimator to the data. The scikit-learn application is flexible and provides several parameters that can be adjusted. We will be talking about the most important parameter 'n_clusters', but if you want to examine the other parameters, you can look at [here](https://scikit-learn.org/stable/modules/generated/sklearn.cluster.KMeans.html)."
   ]
  },
  {
   "cell_type": "code",
   "execution_count": 82,
   "id": "66e6851d",
   "metadata": {},
   "outputs": [],
   "source": [
    "kmeans = KMeans(n_clusters = 3,\n",
    "                n_init = 10,\n",
    "                max_iter = 300,\n",
    "                random_state = 42)"
   ]
  },
  {
   "cell_type": "markdown",
   "id": "0610ff68",
   "metadata": {},
   "source": [
    "The parameter names match the language used earlier in the tutorial to define the k-means algorithm. Now that the k-means class is ready, the next step is to fit it into the data in it."
   ]
  },
  {
   "cell_type": "code",
   "execution_count": 83,
   "id": "1494d6b8",
   "metadata": {},
   "outputs": [
    {
     "data": {
      "text/plain": [
       "KMeans(n_clusters=3, random_state=42)"
      ]
     },
     "execution_count": 83,
     "metadata": {},
     "output_type": "execute_result"
    }
   ],
   "source": [
    "kmeans.fit(scaled_inputs)"
   ]
  },
  {
   "cell_type": "markdown",
   "id": "8d02f5e0",
   "metadata": {},
   "source": [
    "When we want to get the **SSE** value I mentioned above, we will be using the 'inertia_' function.Now that we have chosen a 3-cluster structure, the result of the 3-cluster structure will return its value to us, and the lower this value, the better it will be for us."
   ]
  },
  {
   "cell_type": "code",
   "execution_count": 84,
   "id": "daeb33aa",
   "metadata": {},
   "outputs": [
    {
     "data": {
      "text/plain": [
       "23.869034631295328"
      ]
     },
     "execution_count": 84,
     "metadata": {},
     "output_type": "execute_result"
    }
   ],
   "source": [
    "kmeans.inertia_"
   ]
  },
  {
   "cell_type": "markdown",
   "id": "d8b251fc",
   "metadata": {},
   "source": [
    "Depending on the number of clusters we select, center points are assigned, and the function that gives them their position is ``cluster_centers_``."
   ]
  },
  {
   "cell_type": "code",
   "execution_count": 85,
   "id": "133918f8",
   "metadata": {},
   "outputs": [
    {
     "data": {
      "text/plain": [
       "array([[-0.27558732,  0.91906063],\n",
       "       [-0.66951788, -0.68776995],\n",
       "       [ 0.8191204 ,  0.34336666]])"
      ]
     },
     "execution_count": 85,
     "metadata": {},
     "output_type": "execute_result"
    }
   ],
   "source": [
    "kmeans.cluster_centers_"
   ]
  },
  {
   "cell_type": "markdown",
   "id": "bfcb0c27",
   "metadata": {},
   "source": [
    "So far, we have chosen our own number of clusters and then adapted them to our data set. Well let's show the center points and sets."
   ]
  },
  {
   "cell_type": "code",
   "execution_count": 86,
   "id": "4c3fcb99",
   "metadata": {},
   "outputs": [
    {
     "data": {
      "image/png": "[encoded data removed]",
      "text/plain": [
       "<Figure size 432x288 with 1 Axes>"
      ]
     },
     "metadata": {},
     "output_type": "display_data"
    }
   ],
   "source": [
    "x = inputs[:,0]\n",
    "y = inputs[:,1]\n",
    "\n",
    "center_x = kmeans.cluster_centers_[:,0]\n",
    "center_y = kmeans.cluster_centers_[:,1]\n",
    "\n",
    "plt.scatter(x,y , c = labels)\n",
    "plt.scatter(center_x , center_y , marker = 'D' , s = 50)\n",
    "plt.show()"
   ]
  },
  {
   "cell_type": "markdown",
   "id": "a1be49cf",
   "metadata": {},
   "source": [
    "When we examine the graph, the blue dots show our center points. You can see the cluster colors separately from each other, but we can't say that a very good clustering takes place. This was because initially we only decided when choosing the number of clusters. One of the biggest disadvantages of the KMeans algorithm is that it asks you to choose the number of clusters. There is more than one method by which we select a set number. Let's talk about them !"
   ]
  },
  {
   "cell_type": "markdown",
   "id": "4f5fa329",
   "metadata": {},
   "source": [
    "#### Selecting the Appropriate Number of Clusters (K)\n",
    "\n",
    "In this section, you'll look at two commonly used methods for evaluating an appropriate number of clusters:\n",
    "\n",
    "- The Elbow Method\n",
    "- The Silhouette Coefficient\n",
    "\n",
    "Depending on the two methods shown above, the selection of the most optimal k value is carried out."
   ]
  },
  {
   "cell_type": "code",
   "execution_count": 87,
   "id": "b588dceb",
   "metadata": {},
   "outputs": [
    {
     "data": {
      "text/plain": [
       "[73.47271038335116,\n",
       " 23.869034631295328,\n",
       " 14.153728925148796,\n",
       " 10.472713136515452,\n",
       " 7.373914557106707,\n",
       " 5.901152828327816,\n",
       " 4.886682494340046,\n",
       " 3.94030444080447,\n",
       " 3.158740175543301]"
      ]
     },
     "execution_count": 87,
     "metadata": {},
     "output_type": "execute_result"
    }
   ],
   "source": [
    "sse = []\n",
    "num_clusters = range(2,11)\n",
    "\n",
    "for k in num_clusters:\n",
    "    kmeans = KMeans(n_clusters = k,\n",
    "                    n_init = 10,\n",
    "                    max_iter = 300,\n",
    "                    random_state = 42)\n",
    "    kmeans.fit(scaled_inputs)\n",
    "    sse.append(kmeans.inertia_)\n",
    "sse"
   ]
  },
  {
   "cell_type": "markdown",
   "id": "3399f70b",
   "metadata": {},
   "source": [
    "We can see that as the number of clusters increases, our error value decreases. In such a case, will we always prefer the highest number of clusters? No, the **elbow method** is intervening here.\n",
    "\n",
    "Our aim will be to select the number of clusters we see the elbow formation on the graph. For this, we will be giving the cluster numbers of the x-axis and the SSE values ​​of the y-axis by using the line plot."
   ]
  },
  {
   "cell_type": "code",
   "execution_count": 88,
   "id": "efd9de5f",
   "metadata": {},
   "outputs": [],
   "source": [
    "elbow_df = pd.DataFrame({'num_clusters': num_clusters , 'sse' : sse})"
   ]
  },
  {
   "cell_type": "code",
   "execution_count": 89,
   "id": "e10f06e8",
   "metadata": {},
   "outputs": [
    {
     "data": {
      "text/html": [
       "<div>\n",
       "<style scoped>\n",
       "    .dataframe tbody tr th:only-of-type {\n",
       "        vertical-align: middle;\n",
       "    }\n",
       "\n",
       "    .dataframe tbody tr th {\n",
       "        vertical-align: top;\n",
       "    }\n",
       "\n",
       "    .dataframe thead th {\n",
       "        text-align: right;\n",
       "    }\n",
       "</style>\n",
       "<table border=\"1\" class=\"dataframe\">\n",
       "  <thead>\n",
       "    <tr style=\"text-align: right;\">\n",
       "      <th></th>\n",
       "      <th>num_clusters</th>\n",
       "      <th>sse</th>\n",
       "    </tr>\n",
       "  </thead>\n",
       "  <tbody>\n",
       "    <tr>\n",
       "      <th>0</th>\n",
       "      <td>2</td>\n",
       "      <td>73.472710</td>\n",
       "    </tr>\n",
       "    <tr>\n",
       "      <th>1</th>\n",
       "      <td>3</td>\n",
       "      <td>23.869035</td>\n",
       "    </tr>\n",
       "    <tr>\n",
       "      <th>2</th>\n",
       "      <td>4</td>\n",
       "      <td>14.153729</td>\n",
       "    </tr>\n",
       "    <tr>\n",
       "      <th>3</th>\n",
       "      <td>5</td>\n",
       "      <td>10.472713</td>\n",
       "    </tr>\n",
       "    <tr>\n",
       "      <th>4</th>\n",
       "      <td>6</td>\n",
       "      <td>7.373915</td>\n",
       "    </tr>\n",
       "    <tr>\n",
       "      <th>5</th>\n",
       "      <td>7</td>\n",
       "      <td>5.901153</td>\n",
       "    </tr>\n",
       "    <tr>\n",
       "      <th>6</th>\n",
       "      <td>8</td>\n",
       "      <td>4.886682</td>\n",
       "    </tr>\n",
       "    <tr>\n",
       "      <th>7</th>\n",
       "      <td>9</td>\n",
       "      <td>3.940304</td>\n",
       "    </tr>\n",
       "    <tr>\n",
       "      <th>8</th>\n",
       "      <td>10</td>\n",
       "      <td>3.158740</td>\n",
       "    </tr>\n",
       "  </tbody>\n",
       "</table>\n",
       "</div>"
      ],
      "text/plain": [
       "   num_clusters        sse\n",
       "0             2  73.472710\n",
       "1             3  23.869035\n",
       "2             4  14.153729\n",
       "3             5  10.472713\n",
       "4             6   7.373915\n",
       "5             7   5.901153\n",
       "6             8   4.886682\n",
       "7             9   3.940304\n",
       "8            10   3.158740"
      ]
     },
     "execution_count": 89,
     "metadata": {},
     "output_type": "execute_result"
    }
   ],
   "source": [
    "elbow_df"
   ]
  },
  {
   "cell_type": "code",
   "execution_count": 90,
   "id": "36dfd17f",
   "metadata": {},
   "outputs": [
    {
     "data": {
      "image/png": "[encoded data removed]",
      "text/plain": [
       "<Figure size 432x288 with 1 Axes>"
      ]
     },
     "metadata": {},
     "output_type": "display_data"
    }
   ],
   "source": [
    "sns.lineplot('num_clusters' , 'sse' , data = elbow_df)\n",
    "plt.show()"
   ]
  },
  {
   "cell_type": "markdown",
   "id": "bd2c2f31",
   "metadata": {},
   "source": [
    "As the number of clusters increases, we can see that our error value decreases. In such a case, then will we always prefer the highest number of clusters? No, the **elbow method** intervenes here.\n",
    "\n",
    "Our goal will be to select the number of clusters where we see elbow formation on the graph. For this, we will be using line plot to give the cluster numbers of the x axis and the SSE values of the y axis."
   ]
  },
  {
   "cell_type": "code",
   "execution_count": 91,
   "id": "0af3881f",
   "metadata": {},
   "outputs": [],
   "source": [
    "kl = KneeLocator(x = num_clusters ,  y = sse, curve=\"convex\", direction=\"decreasing\")"
   ]
  },
  {
   "cell_type": "markdown",
   "id": "6417b806",
   "metadata": {},
   "source": [
    "After creating the ``kl`` object, we can see the most appropriate k value with the ``elbow`` method."
   ]
  },
  {
   "cell_type": "code",
   "execution_count": 92,
   "id": "00867ac2",
   "metadata": {},
   "outputs": [
    {
     "data": {
      "text/plain": [
       "4"
      ]
     },
     "execution_count": 92,
     "metadata": {},
     "output_type": "execute_result"
    }
   ],
   "source": [
    "kl.elbow"
   ]
  },
  {
   "cell_type": "markdown",
   "id": "c546fd79",
   "metadata": {},
   "source": [
    "With the elbow method, we have completed the steps of reading over the graph and reaching the optimum value through the KneeLocator. It is necessary to determine the number of clusters by applying these operations first, and then to perform clustering operations depending on the number of clusters we obtain.\n",
    "\n",
    "So let's move on to our two methods.**The Silhouette Coefficient** is a measure of cluster coherence and separation. It measures how well a data point fits into its assigned set based on two factors:\n",
    "\n",
    "- How close the data point is to other points in the cluster\n",
    "- How far the data point is from points in other clusters\n",
    "Larger coefficient values indicate that sets of instances are closer to their clusters than to other sets."
   ]
  },
  {
   "cell_type": "code",
   "execution_count": 93,
   "id": "bbc41c34",
   "metadata": {},
   "outputs": [
    {
     "data": {
      "text/plain": [
       "[0.6162063945972879,\n",
       " 0.7018475631182579,\n",
       " 0.7051269428442449,\n",
       " 0.6591302547737428,\n",
       " 0.5677852567397352,\n",
       " 0.5535510403864528,\n",
       " 0.5502458411238079,\n",
       " 0.5422190791460185,\n",
       " 0.5043471937093794]"
      ]
     },
     "execution_count": 93,
     "metadata": {},
     "output_type": "execute_result"
    }
   ],
   "source": [
    "kmeans_kwargs = {\n",
    "    \"init\": \"random\",\n",
    "    \"n_init\": 10,\n",
    "    \"max_iter\": 300,\n",
    "    \"random_state\": 42,\n",
    "}\n",
    "\n",
    "silhouette_coefficients = []\n",
    "for k in range(2,11):\n",
    "    kmeans = KMeans(n_clusters=k, **kmeans_kwargs)\n",
    "    kmeans.fit(scaled_inputs)\n",
    "    pred = kmeans.labels_\n",
    "    score = silhouette_score(scaled_inputs , pred)\n",
    "    silhouette_coefficients.append(score)\n",
    "    \n",
    "silhouette_coefficients"
   ]
  },
  {
   "cell_type": "code",
   "execution_count": 94,
   "id": "26267269",
   "metadata": {},
   "outputs": [
    {
     "data": {
      "image/png": "[encoded data removed]",
      "text/plain": [
       "<Figure size 360x216 with 1 Axes>"
      ]
     },
     "metadata": {},
     "output_type": "display_data"
    }
   ],
   "source": [
    "plt.figure(figsize=(5,3))\n",
    "plt.style.use(\"fivethirtyeight\")\n",
    "plt.plot(range(2, 11), silhouette_coefficients)\n",
    "plt.xticks(range(2, 11))\n",
    "plt.xlabel(\"Number of Clusters\")\n",
    "plt.ylabel(\"Silhouette Coefficient\")\n",
    "plt.show()"
   ]
  },
  {
   "cell_type": "markdown",
   "id": "b983cbaa",
   "metadata": {},
   "source": [
    "While reading the graph in the Silhouette Coefficient method, the number of clusters with the highest coefficient value is the optimal number of clusters for us.\n",
    "\n",
    "As a result, your decision on the number of clusters to use should be guided by a combination of domain information and clustering evaluation criteria."
   ]
  },
  {
   "cell_type": "markdown",
   "id": "ba9a72c4",
   "metadata": {},
   "source": [
    "## <a name=\"1\"> Hierarchical Clustering</a>\n",
    "\n",
    "\n",
    "As it is known, the k-center clustering method has a disadvantage. You need to determine the number of clusters in advance. Hierarchical clustering has been developed to eliminate this drawback. The basic logic of the hierarchical clustering algorithm is based on the combination of similar attributes or, on the contrary, their division. According to this working logic, there are two basic approaches as unifying and divisive. In the aggregative approach, also known as induction, initially all objects are separated from each other. In other words, each of the data in hand is considered as a separate set and the work begins. Then, clusters with similar attributes are combined to try to obtain a single set. In the deductive approach, a discriminatory strategy prevails in contrast to the induction method. In this approach, there is initially a single set. At each stage, according to the distance/similarity matrix, the objects are separated from the main set and different subsets are formed. As a result of the process, each data becomes a set.\n",
    "\n",
    "\n",
    "<img src = \"https://miro.medium.com/max/1039/0*afzanWwrDq9vd2g-\" width = 500 heigth = 500></img>\n",
    "\n",
    "In this section, we will be using the **linkage, fcluster and dendrogram** packages from the **scipy** library and the eurovision data set 2016.\n"
   ]
  },
  {
   "cell_type": "code",
   "execution_count": 23,
   "id": "14caf9cb",
   "metadata": {},
   "outputs": [],
   "source": [
    "eurovision = pd.read_csv('dataset/eurovision-2016.csv')"
   ]
  },
  {
   "cell_type": "code",
   "execution_count": 24,
   "id": "8bd7658d",
   "metadata": {},
   "outputs": [
    {
     "data": {
      "text/html": [
       "<div>\n",
       "<style scoped>\n",
       "    .dataframe tbody tr th:only-of-type {\n",
       "        vertical-align: middle;\n",
       "    }\n",
       "\n",
       "    .dataframe tbody tr th {\n",
       "        vertical-align: top;\n",
       "    }\n",
       "\n",
       "    .dataframe thead th {\n",
       "        text-align: right;\n",
       "    }\n",
       "</style>\n",
       "<table border=\"1\" class=\"dataframe\">\n",
       "  <thead>\n",
       "    <tr style=\"text-align: right;\">\n",
       "      <th></th>\n",
       "      <th>From country</th>\n",
       "      <th>To country</th>\n",
       "      <th>Jury A</th>\n",
       "      <th>Jury B</th>\n",
       "      <th>Jury C</th>\n",
       "      <th>Jury D</th>\n",
       "      <th>Jury E</th>\n",
       "      <th>Jury Rank</th>\n",
       "      <th>Televote Rank</th>\n",
       "      <th>Jury Points</th>\n",
       "      <th>Televote Points</th>\n",
       "    </tr>\n",
       "  </thead>\n",
       "  <tbody>\n",
       "    <tr>\n",
       "      <th>0</th>\n",
       "      <td>Albania</td>\n",
       "      <td>Belgium</td>\n",
       "      <td>20</td>\n",
       "      <td>16</td>\n",
       "      <td>24</td>\n",
       "      <td>22</td>\n",
       "      <td>24</td>\n",
       "      <td>25</td>\n",
       "      <td>14</td>\n",
       "      <td>NaN</td>\n",
       "      <td>NaN</td>\n",
       "    </tr>\n",
       "    <tr>\n",
       "      <th>1</th>\n",
       "      <td>Albania</td>\n",
       "      <td>Czech Republic</td>\n",
       "      <td>21</td>\n",
       "      <td>15</td>\n",
       "      <td>25</td>\n",
       "      <td>23</td>\n",
       "      <td>16</td>\n",
       "      <td>22</td>\n",
       "      <td>22</td>\n",
       "      <td>NaN</td>\n",
       "      <td>NaN</td>\n",
       "    </tr>\n",
       "    <tr>\n",
       "      <th>2</th>\n",
       "      <td>Albania</td>\n",
       "      <td>The Netherlands</td>\n",
       "      <td>22</td>\n",
       "      <td>14</td>\n",
       "      <td>23</td>\n",
       "      <td>24</td>\n",
       "      <td>21</td>\n",
       "      <td>24</td>\n",
       "      <td>24</td>\n",
       "      <td>NaN</td>\n",
       "      <td>NaN</td>\n",
       "    </tr>\n",
       "    <tr>\n",
       "      <th>3</th>\n",
       "      <td>Albania</td>\n",
       "      <td>Azerbaijan</td>\n",
       "      <td>19</td>\n",
       "      <td>12</td>\n",
       "      <td>11</td>\n",
       "      <td>21</td>\n",
       "      <td>11</td>\n",
       "      <td>13</td>\n",
       "      <td>19</td>\n",
       "      <td>NaN</td>\n",
       "      <td>NaN</td>\n",
       "    </tr>\n",
       "    <tr>\n",
       "      <th>4</th>\n",
       "      <td>Albania</td>\n",
       "      <td>Hungary</td>\n",
       "      <td>8</td>\n",
       "      <td>13</td>\n",
       "      <td>9</td>\n",
       "      <td>14</td>\n",
       "      <td>9</td>\n",
       "      <td>10</td>\n",
       "      <td>10</td>\n",
       "      <td>1.0</td>\n",
       "      <td>1.0</td>\n",
       "    </tr>\n",
       "  </tbody>\n",
       "</table>\n",
       "</div>"
      ],
      "text/plain": [
       "  From country       To country  Jury A  Jury B  Jury C  Jury D  Jury E  \\\n",
       "0      Albania          Belgium      20      16      24      22      24   \n",
       "1      Albania   Czech Republic      21      15      25      23      16   \n",
       "2      Albania  The Netherlands      22      14      23      24      21   \n",
       "3      Albania       Azerbaijan      19      12      11      21      11   \n",
       "4      Albania          Hungary       8      13       9      14       9   \n",
       "\n",
       "   Jury Rank  Televote Rank  Jury Points  Televote Points  \n",
       "0         25             14          NaN              NaN  \n",
       "1         22             22          NaN              NaN  \n",
       "2         24             24          NaN              NaN  \n",
       "3         13             19          NaN              NaN  \n",
       "4         10             10          1.0              1.0  "
      ]
     },
     "execution_count": 24,
     "metadata": {},
     "output_type": "execute_result"
    }
   ],
   "source": [
    "eurovision.head()"
   ]
  },
  {
   "cell_type": "code",
   "execution_count": 25,
   "id": "05950763",
   "metadata": {},
   "outputs": [],
   "source": [
    "eurovision['Points Mean'] = eurovision.iloc[:,2:7].mean(axis = 1)"
   ]
  },
  {
   "cell_type": "code",
   "execution_count": 26,
   "id": "9ab96360",
   "metadata": {},
   "outputs": [],
   "source": [
    "eurovision.drop(columns=['Jury A' ,'Jury B','Jury E' ,'Jury C' ,'Jury D', 'Jury Points','Televote Points'], inplace=True)"
   ]
  },
  {
   "cell_type": "code",
   "execution_count": 27,
   "id": "10ce724b",
   "metadata": {},
   "outputs": [
    {
     "data": {
      "text/html": [
       "<div>\n",
       "<style scoped>\n",
       "    .dataframe tbody tr th:only-of-type {\n",
       "        vertical-align: middle;\n",
       "    }\n",
       "\n",
       "    .dataframe tbody tr th {\n",
       "        vertical-align: top;\n",
       "    }\n",
       "\n",
       "    .dataframe thead th {\n",
       "        text-align: right;\n",
       "    }\n",
       "</style>\n",
       "<table border=\"1\" class=\"dataframe\">\n",
       "  <thead>\n",
       "    <tr style=\"text-align: right;\">\n",
       "      <th></th>\n",
       "      <th>From country</th>\n",
       "      <th>To country</th>\n",
       "      <th>Jury Rank</th>\n",
       "      <th>Televote Rank</th>\n",
       "      <th>Points Mean</th>\n",
       "    </tr>\n",
       "  </thead>\n",
       "  <tbody>\n",
       "    <tr>\n",
       "      <th>0</th>\n",
       "      <td>Albania</td>\n",
       "      <td>Belgium</td>\n",
       "      <td>25</td>\n",
       "      <td>14</td>\n",
       "      <td>21.2</td>\n",
       "    </tr>\n",
       "    <tr>\n",
       "      <th>1</th>\n",
       "      <td>Albania</td>\n",
       "      <td>Czech Republic</td>\n",
       "      <td>22</td>\n",
       "      <td>22</td>\n",
       "      <td>20.0</td>\n",
       "    </tr>\n",
       "    <tr>\n",
       "      <th>2</th>\n",
       "      <td>Albania</td>\n",
       "      <td>The Netherlands</td>\n",
       "      <td>24</td>\n",
       "      <td>24</td>\n",
       "      <td>20.8</td>\n",
       "    </tr>\n",
       "    <tr>\n",
       "      <th>3</th>\n",
       "      <td>Albania</td>\n",
       "      <td>Azerbaijan</td>\n",
       "      <td>13</td>\n",
       "      <td>19</td>\n",
       "      <td>14.8</td>\n",
       "    </tr>\n",
       "    <tr>\n",
       "      <th>4</th>\n",
       "      <td>Albania</td>\n",
       "      <td>Hungary</td>\n",
       "      <td>10</td>\n",
       "      <td>10</td>\n",
       "      <td>10.6</td>\n",
       "    </tr>\n",
       "  </tbody>\n",
       "</table>\n",
       "</div>"
      ],
      "text/plain": [
       "  From country       To country  Jury Rank  Televote Rank  Points Mean\n",
       "0      Albania          Belgium         25             14         21.2\n",
       "1      Albania   Czech Republic         22             22         20.0\n",
       "2      Albania  The Netherlands         24             24         20.8\n",
       "3      Albania       Azerbaijan         13             19         14.8\n",
       "4      Albania          Hungary         10             10         10.6"
      ]
     },
     "execution_count": 27,
     "metadata": {},
     "output_type": "execute_result"
    }
   ],
   "source": [
    "eurovision.head()"
   ]
  },
  {
   "cell_type": "markdown",
   "id": "ca09194b",
   "metadata": {},
   "source": [
    "First of all, our goal is to find a relationship between the countries and to include them in the clusters by creating the cluster structure. If we didn't use the clustering structure and wanted to do supervised learning, then each country would have a label for us, which would mean a lot of variables. Our model will be challenged to train. Instead, we'll be trying to get a pattern by creating clusters that multiple countries can enter."
   ]
  },
  {
   "cell_type": "code",
   "execution_count": 28,
   "id": "1af8b4fe",
   "metadata": {},
   "outputs": [],
   "source": [
    "classes = list(eurovision['From country'].unique())"
   ]
  },
  {
   "cell_type": "markdown",
   "id": "8e0cf322",
   "metadata": {},
   "source": [
    "Our variable ``classes`` will be a list of unique countries. This value will be the classes that are the first step of cluster formation in the graph we will show with the dendrogram."
   ]
  },
  {
   "cell_type": "code",
   "execution_count": 29,
   "id": "d4b641bb",
   "metadata": {},
   "outputs": [],
   "source": [
    "X = eurovision[['Jury Rank','Televote Rank','Points Mean']][:42].values"
   ]
  },
  {
   "cell_type": "markdown",
   "id": "22a85976",
   "metadata": {},
   "source": [
    "The 'X' represents our data observations. We will be showing over 42 pieces of data so that there is not a very large dengdrogram drawing."
   ]
  },
  {
   "cell_type": "code",
   "execution_count": 30,
   "id": "71604ef9",
   "metadata": {},
   "outputs": [],
   "source": [
    "samples = linkage(X, method='ward')"
   ]
  },
  {
   "cell_type": "markdown",
   "id": "d1bb2c19",
   "metadata": {},
   "source": [
    "``linkage`` is the process of combining with its function, that is, the process of revealing relationships.**It is the realization of hierarchical/agglomerative clustering.**\n",
    "There is more than one joining method. The most popular of these are;\n",
    "- **complete** takes the maximum values of the distance between sets.\n",
    "- **single** takes the minimum value of the distance between sets.\n",
    "- **average** averages the distance between sets.\n",
    "- **ward** uses a ward variance minimization algorithm.\n",
    "\n",
    "As a final step, we can perform dendrogram drawing."
   ]
  },
  {
   "cell_type": "code",
   "execution_count": 39,
   "id": "6f3605d7",
   "metadata": {
    "scrolled": false
   },
   "outputs": [
    {
     "data": {
      "image/png": "[encoded data removed]",
      "text/plain": [
       "<Figure size 1152x576 with 1 Axes>"
      ]
     },
     "metadata": {},
     "output_type": "display_data"
    }
   ],
   "source": [
    "plt.figure(figsize=(16,8))\n",
    "dendrogram(samples,\n",
    "           labels=classes,\n",
    "           leaf_font_size = 15,\n",
    "           show_leaf_counts=True)\n",
    "plt.show()"
   ]
  },
  {
   "cell_type": "markdown",
   "id": "249b6384",
   "metadata": {},
   "source": [
    "When we look at the graph, in the beginning all the countries were clusters for us, but as the relationships emerged, branching out and as you can see in the graph, they branch, and so on until there is a single cluster.\n",
    "\n",
    "The y-axis of the chart is an important part. It shows the meases of the clusters and **is where we will use it for cluster selection.**\n",
    "\n",
    "Based on the value on the y-axis that we select, it selects as many clusters as the largest number of branching points below it. If it is necessary to give an example;\n",
    "- If the value of 50 is selected, 2 clusters will be formed.\n",
    "- If the value of 20 is selected, 6 clusters will be formed.\n",
    "\n",
    "we can say. So how are we going to choose this? In such a case, it is not enough just to look at the dendrogram graph. We may need to use the methods we see in the KMeans algorithm and look at the methods we will learn in the future. But one of the graphs that describes the best description of clustering is the dendrogram graph.\n",
    "\n",
    "We can choose our number of clusters by looking at the graph, then we can label each country in our data set. For this, we will be using the 'fcluster' function.\n",
    "- **Z** is the value you get from the linkage method.\n",
    "- **t** is a threshold value. If we examine the y-axis you see in the graph and give it a 50, it will give us two labels [1,2] and map them to our classes, or you can get different results by giving other values.\n",
    "\n",
    "If you want to review more parameters, you can reach [here](https://docs.scipy.org/doc/scipy/reference/generated/scipy.cluster.hierarchy.fcluster.html)."
   ]
  },
  {
   "cell_type": "code",
   "execution_count": 40,
   "id": "c32b8357",
   "metadata": {},
   "outputs": [],
   "source": [
    "labels = fcluster(samples , t = 30,criterion='distance')"
   ]
  },
  {
   "cell_type": "code",
   "execution_count": 44,
   "id": "519daba0",
   "metadata": {},
   "outputs": [],
   "source": [
    "df = pd.DataFrame({'labels' : labels , 'classes': classes}).sort_values(by ='labels')"
   ]
  },
  {
   "cell_type": "code",
   "execution_count": 45,
   "id": "dacaa160",
   "metadata": {},
   "outputs": [
    {
     "data": {
      "text/html": [
       "<div>\n",
       "<style scoped>\n",
       "    .dataframe tbody tr th:only-of-type {\n",
       "        vertical-align: middle;\n",
       "    }\n",
       "\n",
       "    .dataframe tbody tr th {\n",
       "        vertical-align: top;\n",
       "    }\n",
       "\n",
       "    .dataframe thead th {\n",
       "        text-align: right;\n",
       "    }\n",
       "</style>\n",
       "<table border=\"1\" class=\"dataframe\">\n",
       "  <thead>\n",
       "    <tr style=\"text-align: right;\">\n",
       "      <th></th>\n",
       "      <th>labels</th>\n",
       "      <th>classes</th>\n",
       "    </tr>\n",
       "  </thead>\n",
       "  <tbody>\n",
       "    <tr>\n",
       "      <th>12</th>\n",
       "      <td>1</td>\n",
       "      <td>Denmark</td>\n",
       "    </tr>\n",
       "    <tr>\n",
       "      <th>39</th>\n",
       "      <td>1</td>\n",
       "      <td>The Netherlands</td>\n",
       "    </tr>\n",
       "    <tr>\n",
       "      <th>5</th>\n",
       "      <td>1</td>\n",
       "      <td>Belarus</td>\n",
       "    </tr>\n",
       "    <tr>\n",
       "      <th>36</th>\n",
       "      <td>1</td>\n",
       "      <td>Spain</td>\n",
       "    </tr>\n",
       "    <tr>\n",
       "      <th>7</th>\n",
       "      <td>1</td>\n",
       "      <td>Bosnia &amp; Herzegovina</td>\n",
       "    </tr>\n",
       "    <tr>\n",
       "      <th>17</th>\n",
       "      <td>1</td>\n",
       "      <td>Georgia</td>\n",
       "    </tr>\n",
       "    <tr>\n",
       "      <th>24</th>\n",
       "      <td>2</td>\n",
       "      <td>Italy</td>\n",
       "    </tr>\n",
       "    <tr>\n",
       "      <th>21</th>\n",
       "      <td>2</td>\n",
       "      <td>Iceland</td>\n",
       "    </tr>\n",
       "    <tr>\n",
       "      <th>33</th>\n",
       "      <td>2</td>\n",
       "      <td>San Marino</td>\n",
       "    </tr>\n",
       "    <tr>\n",
       "      <th>10</th>\n",
       "      <td>2</td>\n",
       "      <td>Cyprus</td>\n",
       "    </tr>\n",
       "    <tr>\n",
       "      <th>18</th>\n",
       "      <td>2</td>\n",
       "      <td>Germany</td>\n",
       "    </tr>\n",
       "    <tr>\n",
       "      <th>6</th>\n",
       "      <td>2</td>\n",
       "      <td>Belgium</td>\n",
       "    </tr>\n",
       "    <tr>\n",
       "      <th>26</th>\n",
       "      <td>2</td>\n",
       "      <td>Lithuania</td>\n",
       "    </tr>\n",
       "    <tr>\n",
       "      <th>27</th>\n",
       "      <td>2</td>\n",
       "      <td>Malta</td>\n",
       "    </tr>\n",
       "    <tr>\n",
       "      <th>38</th>\n",
       "      <td>2</td>\n",
       "      <td>Switzerland</td>\n",
       "    </tr>\n",
       "    <tr>\n",
       "      <th>32</th>\n",
       "      <td>3</td>\n",
       "      <td>Russia</td>\n",
       "    </tr>\n",
       "    <tr>\n",
       "      <th>22</th>\n",
       "      <td>3</td>\n",
       "      <td>Ireland</td>\n",
       "    </tr>\n",
       "    <tr>\n",
       "      <th>40</th>\n",
       "      <td>3</td>\n",
       "      <td>Ukraine</td>\n",
       "    </tr>\n",
       "    <tr>\n",
       "      <th>41</th>\n",
       "      <td>3</td>\n",
       "      <td>United Kingdom</td>\n",
       "    </tr>\n",
       "    <tr>\n",
       "      <th>14</th>\n",
       "      <td>3</td>\n",
       "      <td>F.Y.R. Macedonia</td>\n",
       "    </tr>\n",
       "    <tr>\n",
       "      <th>16</th>\n",
       "      <td>3</td>\n",
       "      <td>France</td>\n",
       "    </tr>\n",
       "    <tr>\n",
       "      <th>35</th>\n",
       "      <td>3</td>\n",
       "      <td>Slovenia</td>\n",
       "    </tr>\n",
       "    <tr>\n",
       "      <th>3</th>\n",
       "      <td>3</td>\n",
       "      <td>Austria</td>\n",
       "    </tr>\n",
       "    <tr>\n",
       "      <th>2</th>\n",
       "      <td>3</td>\n",
       "      <td>Australia</td>\n",
       "    </tr>\n",
       "    <tr>\n",
       "      <th>1</th>\n",
       "      <td>3</td>\n",
       "      <td>Armenia</td>\n",
       "    </tr>\n",
       "    <tr>\n",
       "      <th>19</th>\n",
       "      <td>3</td>\n",
       "      <td>Greece</td>\n",
       "    </tr>\n",
       "    <tr>\n",
       "      <th>29</th>\n",
       "      <td>3</td>\n",
       "      <td>Montenegro</td>\n",
       "    </tr>\n",
       "    <tr>\n",
       "      <th>34</th>\n",
       "      <td>4</td>\n",
       "      <td>Serbia</td>\n",
       "    </tr>\n",
       "    <tr>\n",
       "      <th>31</th>\n",
       "      <td>4</td>\n",
       "      <td>Poland</td>\n",
       "    </tr>\n",
       "    <tr>\n",
       "      <th>37</th>\n",
       "      <td>4</td>\n",
       "      <td>Sweden</td>\n",
       "    </tr>\n",
       "    <tr>\n",
       "      <th>0</th>\n",
       "      <td>4</td>\n",
       "      <td>Albania</td>\n",
       "    </tr>\n",
       "    <tr>\n",
       "      <th>28</th>\n",
       "      <td>4</td>\n",
       "      <td>Moldova</td>\n",
       "    </tr>\n",
       "    <tr>\n",
       "      <th>25</th>\n",
       "      <td>4</td>\n",
       "      <td>Latvia</td>\n",
       "    </tr>\n",
       "    <tr>\n",
       "      <th>23</th>\n",
       "      <td>4</td>\n",
       "      <td>Israel</td>\n",
       "    </tr>\n",
       "    <tr>\n",
       "      <th>15</th>\n",
       "      <td>4</td>\n",
       "      <td>Finland</td>\n",
       "    </tr>\n",
       "    <tr>\n",
       "      <th>13</th>\n",
       "      <td>4</td>\n",
       "      <td>Estonia</td>\n",
       "    </tr>\n",
       "    <tr>\n",
       "      <th>11</th>\n",
       "      <td>4</td>\n",
       "      <td>Czech Republic</td>\n",
       "    </tr>\n",
       "    <tr>\n",
       "      <th>9</th>\n",
       "      <td>4</td>\n",
       "      <td>Croatia</td>\n",
       "    </tr>\n",
       "    <tr>\n",
       "      <th>8</th>\n",
       "      <td>4</td>\n",
       "      <td>Bulgaria</td>\n",
       "    </tr>\n",
       "    <tr>\n",
       "      <th>4</th>\n",
       "      <td>4</td>\n",
       "      <td>Azerbaijan</td>\n",
       "    </tr>\n",
       "    <tr>\n",
       "      <th>30</th>\n",
       "      <td>4</td>\n",
       "      <td>Norway</td>\n",
       "    </tr>\n",
       "    <tr>\n",
       "      <th>20</th>\n",
       "      <td>4</td>\n",
       "      <td>Hungary</td>\n",
       "    </tr>\n",
       "  </tbody>\n",
       "</table>\n",
       "</div>"
      ],
      "text/plain": [
       "    labels               classes\n",
       "12       1               Denmark\n",
       "39       1       The Netherlands\n",
       "5        1               Belarus\n",
       "36       1                 Spain\n",
       "7        1  Bosnia & Herzegovina\n",
       "17       1               Georgia\n",
       "24       2                 Italy\n",
       "21       2               Iceland\n",
       "33       2            San Marino\n",
       "10       2                Cyprus\n",
       "18       2               Germany\n",
       "6        2               Belgium\n",
       "26       2             Lithuania\n",
       "27       2                 Malta\n",
       "38       2           Switzerland\n",
       "32       3                Russia\n",
       "22       3               Ireland\n",
       "40       3               Ukraine\n",
       "41       3        United Kingdom\n",
       "14       3      F.Y.R. Macedonia\n",
       "16       3                France\n",
       "35       3              Slovenia\n",
       "3        3               Austria\n",
       "2        3             Australia\n",
       "1        3               Armenia\n",
       "19       3                Greece\n",
       "29       3            Montenegro\n",
       "34       4                Serbia\n",
       "31       4                Poland\n",
       "37       4                Sweden\n",
       "0        4               Albania\n",
       "28       4               Moldova\n",
       "25       4                Latvia\n",
       "23       4                Israel\n",
       "15       4               Finland\n",
       "13       4               Estonia\n",
       "11       4        Czech Republic\n",
       "9        4               Croatia\n",
       "8        4              Bulgaria\n",
       "4        4            Azerbaijan\n",
       "30       4                Norway\n",
       "20       4               Hungary"
      ]
     },
     "execution_count": 45,
     "metadata": {},
     "output_type": "execute_result"
    }
   ],
   "source": [
    "df"
   ]
  },
  {
   "cell_type": "markdown",
   "id": "c8601769",
   "metadata": {},
   "source": [
    "We have done the process of labeling the countries in our data set with the hierarchical clustering method. Let's imagine that a country comes from outside and we want to predict which label this country will be included in, this problem has turned into a supervised learning technique for us, and then we can easily predict this."
   ]
  },
  {
   "cell_type": "markdown",
   "id": "9b38ecbc",
   "metadata": {},
   "source": [
    "## <a name=\"2\"> t-SNE</a>\n",
    "\n",
    "t-SNE stands for 't-distributed stochastic neighbor placement'. It has a complex name but serves a very simple purpose. It maps samples from their high-dimensional space to a low-dimensional space so they can be visualized. While some distortion is unavoidable, t-SNE does a great job of approximating the distances between samples. Therefore, t-SNE is an invaluable visual aid for understanding a dataset.\n",
    "\n",
    "<img src = \"http://denovosoftware.com/wp-content/uploads/tsne_new.png\" width = 500 heigth = 500></img>"
   ]
  },
  {
   "cell_type": "markdown",
   "id": "4f895716",
   "metadata": {},
   "source": [
    "Let's try to understand the logic of t-SNE by creating a synthetic data set."
   ]
  },
  {
   "cell_type": "code",
   "execution_count": 95,
   "id": "6dc0032d",
   "metadata": {},
   "outputs": [],
   "source": [
    "features, labels = make_blobs(n_samples=200,\n",
    "                              n_features=4 , \n",
    "                              random_state=50)"
   ]
  },
  {
   "cell_type": "code",
   "execution_count": 96,
   "id": "b182d821",
   "metadata": {},
   "outputs": [
    {
     "data": {
      "image/png": "[encoded data removed]",
      "text/plain": [
       "<Figure size 432x288 with 1 Axes>"
      ]
     },
     "metadata": {},
     "output_type": "display_data"
    }
   ],
   "source": [
    "xs = features[:,0]\n",
    "ys = features[:,1]\n",
    "\n",
    "plt.scatter(xs , ys)\n",
    "plt.show()"
   ]
  },
  {
   "cell_type": "markdown",
   "id": "26b3488d",
   "metadata": {},
   "source": [
    "**t-SNE** library can be accessed from the 'sklearn.manifold'. TSNE is an important parameter learning_rate. Different rates need to be specified on different data sets.\n",
    "\n",
    "- As we change the learning_rate rates, we can see that the location and distribution of the clusters also change.\n",
    "- Another thing that can be said about t-SNE is that the axes cannot be interpreted.\n",
    "The learning_rate rate can usually be given between [50,200] or [10,1000].\n",
    "\n",
    "Let's use t-SNE and Hierarchical Clustering operations on another data set."
   ]
  },
  {
   "cell_type": "code",
   "execution_count": 98,
   "id": "46cad8f8",
   "metadata": {},
   "outputs": [],
   "source": [
    "tsne = TSNE(learning_rate = 50)"
   ]
  },
  {
   "cell_type": "markdown",
   "id": "92a62d32",
   "metadata": {},
   "source": [
    "After TSNE is formed, t-SNE has two methods. These are **fit** and **fit_transform** methods."
   ]
  },
  {
   "cell_type": "code",
   "execution_count": 100,
   "id": "865dc475",
   "metadata": {},
   "outputs": [],
   "source": [
    "transformed = tsne.fit_transform(features)"
   ]
  },
  {
   "cell_type": "code",
   "execution_count": 102,
   "id": "c3aaaa88",
   "metadata": {},
   "outputs": [
    {
     "data": {
      "text/plain": [
       "(200, 2)"
      ]
     },
     "execution_count": 102,
     "metadata": {},
     "output_type": "execute_result"
    }
   ],
   "source": [
    "transformed.shape"
   ]
  },
  {
   "cell_type": "markdown",
   "id": "c8f5ecde",
   "metadata": {},
   "source": [
    "When we look at its size, we can see that it has been reduced from a 4-dimensional structure to a 2-dimensional structure. This means that I will present the information I will receive from four variables to two variables."
   ]
  },
  {
   "cell_type": "code",
   "execution_count": 103,
   "id": "9e069538",
   "metadata": {},
   "outputs": [
    {
     "data": {
      "image/png": "[encoded data removed]",
      "text/plain": [
       "<Figure size 432x288 with 1 Axes>"
      ]
     },
     "metadata": {},
     "output_type": "display_data"
    }
   ],
   "source": [
    "transformed_x = transformed[:,0]\n",
    "transformed_y = transformed[:,1]\n",
    "\n",
    "plt.scatter(transformed_x , transformed_y)\n",
    "plt.show()"
   ]
  },
  {
   "cell_type": "markdown",
   "id": "e76d6d57",
   "metadata": {},
   "source": [
    "In fact, we can see that there is not much difference between the graph we created at the beginning and the current graph, but it seems as if the data has moved a little closer and collected. This is actually due to the fact that the t-SNE algorithm now makes sense of the data through two variables.\n",
    "\n",
    "Imagine that you have more than 50 variables in your hand and you create it on the chart. You can imagine how messy the graph is and too complex to make sense of.In such a case, it would be very useful to look at t-SNE. After reducing the data, you can analyze how many different groups are formed and draw the path accordingly.t-SNE may not be enough to create a cluster, but it is very useful to understand the structure in the data set.\n",
    "\n",
    "So let's continue with a different data set and use the t-SNE algorithms with the Hierarchical Set."
   ]
  },
  {
   "cell_type": "code",
   "execution_count": 104,
   "id": "64d2bba7",
   "metadata": {},
   "outputs": [],
   "source": [
    "movements = pd.read_csv('dataset/movements.csv')"
   ]
  },
  {
   "cell_type": "code",
   "execution_count": 105,
   "id": "95947efc",
   "metadata": {
    "scrolled": true
   },
   "outputs": [
    {
     "data": {
      "text/html": [
       "<div>\n",
       "<style scoped>\n",
       "    .dataframe tbody tr th:only-of-type {\n",
       "        vertical-align: middle;\n",
       "    }\n",
       "\n",
       "    .dataframe tbody tr th {\n",
       "        vertical-align: top;\n",
       "    }\n",
       "\n",
       "    .dataframe thead th {\n",
       "        text-align: right;\n",
       "    }\n",
       "</style>\n",
       "<table border=\"1\" class=\"dataframe\">\n",
       "  <thead>\n",
       "    <tr style=\"text-align: right;\">\n",
       "      <th></th>\n",
       "      <th>Unnamed: 0</th>\n",
       "      <th>2010-01-04</th>\n",
       "      <th>2010-01-05</th>\n",
       "      <th>2010-01-06</th>\n",
       "      <th>2010-01-07</th>\n",
       "      <th>2010-01-08</th>\n",
       "      <th>2010-01-11</th>\n",
       "      <th>2010-01-12</th>\n",
       "      <th>2010-01-13</th>\n",
       "      <th>2010-01-14</th>\n",
       "      <th>...</th>\n",
       "      <th>2013-10-16</th>\n",
       "      <th>2013-10-17</th>\n",
       "      <th>2013-10-18</th>\n",
       "      <th>2013-10-21</th>\n",
       "      <th>2013-10-22</th>\n",
       "      <th>2013-10-23</th>\n",
       "      <th>2013-10-24</th>\n",
       "      <th>2013-10-25</th>\n",
       "      <th>2013-10-28</th>\n",
       "      <th>2013-10-29</th>\n",
       "    </tr>\n",
       "  </thead>\n",
       "  <tbody>\n",
       "    <tr>\n",
       "      <th>0</th>\n",
       "      <td>Apple</td>\n",
       "      <td>0.580000</td>\n",
       "      <td>-0.220005</td>\n",
       "      <td>-3.409998</td>\n",
       "      <td>-1.170000</td>\n",
       "      <td>1.680011</td>\n",
       "      <td>-2.689994</td>\n",
       "      <td>-1.469994</td>\n",
       "      <td>2.779997</td>\n",
       "      <td>-0.680003</td>\n",
       "      <td>...</td>\n",
       "      <td>0.320008</td>\n",
       "      <td>4.519997</td>\n",
       "      <td>2.899987</td>\n",
       "      <td>9.590019</td>\n",
       "      <td>-6.540016</td>\n",
       "      <td>5.959976</td>\n",
       "      <td>6.910011</td>\n",
       "      <td>-5.359962</td>\n",
       "      <td>0.840019</td>\n",
       "      <td>-19.589981</td>\n",
       "    </tr>\n",
       "    <tr>\n",
       "      <th>1</th>\n",
       "      <td>AIG</td>\n",
       "      <td>-0.640002</td>\n",
       "      <td>-0.650000</td>\n",
       "      <td>-0.210001</td>\n",
       "      <td>-0.420000</td>\n",
       "      <td>0.710001</td>\n",
       "      <td>-0.200001</td>\n",
       "      <td>-1.130001</td>\n",
       "      <td>0.069999</td>\n",
       "      <td>-0.119999</td>\n",
       "      <td>...</td>\n",
       "      <td>0.919998</td>\n",
       "      <td>0.709999</td>\n",
       "      <td>0.119999</td>\n",
       "      <td>-0.480000</td>\n",
       "      <td>0.010002</td>\n",
       "      <td>-0.279998</td>\n",
       "      <td>-0.190003</td>\n",
       "      <td>-0.040001</td>\n",
       "      <td>-0.400002</td>\n",
       "      <td>0.660000</td>\n",
       "    </tr>\n",
       "    <tr>\n",
       "      <th>2</th>\n",
       "      <td>Amazon</td>\n",
       "      <td>-2.350006</td>\n",
       "      <td>1.260009</td>\n",
       "      <td>-2.350006</td>\n",
       "      <td>-2.009995</td>\n",
       "      <td>2.960006</td>\n",
       "      <td>-2.309997</td>\n",
       "      <td>-1.640007</td>\n",
       "      <td>1.209999</td>\n",
       "      <td>-1.790001</td>\n",
       "      <td>...</td>\n",
       "      <td>2.109985</td>\n",
       "      <td>3.699982</td>\n",
       "      <td>9.570008</td>\n",
       "      <td>-3.450013</td>\n",
       "      <td>4.820008</td>\n",
       "      <td>-4.079986</td>\n",
       "      <td>2.579986</td>\n",
       "      <td>4.790009</td>\n",
       "      <td>-1.760009</td>\n",
       "      <td>3.740021</td>\n",
       "    </tr>\n",
       "    <tr>\n",
       "      <th>3</th>\n",
       "      <td>American express</td>\n",
       "      <td>0.109997</td>\n",
       "      <td>0.000000</td>\n",
       "      <td>0.260002</td>\n",
       "      <td>0.720002</td>\n",
       "      <td>0.190003</td>\n",
       "      <td>-0.270001</td>\n",
       "      <td>0.750000</td>\n",
       "      <td>0.300004</td>\n",
       "      <td>0.639999</td>\n",
       "      <td>...</td>\n",
       "      <td>0.680001</td>\n",
       "      <td>2.290001</td>\n",
       "      <td>0.409996</td>\n",
       "      <td>-0.069999</td>\n",
       "      <td>0.100006</td>\n",
       "      <td>0.069999</td>\n",
       "      <td>0.130005</td>\n",
       "      <td>1.849999</td>\n",
       "      <td>0.040001</td>\n",
       "      <td>0.540001</td>\n",
       "    </tr>\n",
       "    <tr>\n",
       "      <th>4</th>\n",
       "      <td>Boeing</td>\n",
       "      <td>0.459999</td>\n",
       "      <td>1.770000</td>\n",
       "      <td>1.549999</td>\n",
       "      <td>2.690003</td>\n",
       "      <td>0.059997</td>\n",
       "      <td>-1.080002</td>\n",
       "      <td>0.360000</td>\n",
       "      <td>0.549999</td>\n",
       "      <td>0.530002</td>\n",
       "      <td>...</td>\n",
       "      <td>1.559997</td>\n",
       "      <td>2.480003</td>\n",
       "      <td>0.019997</td>\n",
       "      <td>-1.220001</td>\n",
       "      <td>0.480003</td>\n",
       "      <td>3.020004</td>\n",
       "      <td>-0.029999</td>\n",
       "      <td>1.940002</td>\n",
       "      <td>1.130005</td>\n",
       "      <td>0.309998</td>\n",
       "    </tr>\n",
       "  </tbody>\n",
       "</table>\n",
       "<p>5 rows × 964 columns</p>\n",
       "</div>"
      ],
      "text/plain": [
       "         Unnamed: 0  2010-01-04  2010-01-05  2010-01-06  2010-01-07  \\\n",
       "0             Apple    0.580000   -0.220005   -3.409998   -1.170000   \n",
       "1               AIG   -0.640002   -0.650000   -0.210001   -0.420000   \n",
       "2            Amazon   -2.350006    1.260009   -2.350006   -2.009995   \n",
       "3  American express    0.109997    0.000000    0.260002    0.720002   \n",
       "4            Boeing    0.459999    1.770000    1.549999    2.690003   \n",
       "\n",
       "   2010-01-08  2010-01-11  2010-01-12  2010-01-13  2010-01-14  ...  \\\n",
       "0    1.680011   -2.689994   -1.469994    2.779997   -0.680003  ...   \n",
       "1    0.710001   -0.200001   -1.130001    0.069999   -0.119999  ...   \n",
       "2    2.960006   -2.309997   -1.640007    1.209999   -1.790001  ...   \n",
       "3    0.190003   -0.270001    0.750000    0.300004    0.639999  ...   \n",
       "4    0.059997   -1.080002    0.360000    0.549999    0.530002  ...   \n",
       "\n",
       "   2013-10-16  2013-10-17  2013-10-18  2013-10-21  2013-10-22  2013-10-23  \\\n",
       "0    0.320008    4.519997    2.899987    9.590019   -6.540016    5.959976   \n",
       "1    0.919998    0.709999    0.119999   -0.480000    0.010002   -0.279998   \n",
       "2    2.109985    3.699982    9.570008   -3.450013    4.820008   -4.079986   \n",
       "3    0.680001    2.290001    0.409996   -0.069999    0.100006    0.069999   \n",
       "4    1.559997    2.480003    0.019997   -1.220001    0.480003    3.020004   \n",
       "\n",
       "   2013-10-24  2013-10-25  2013-10-28  2013-10-29  \n",
       "0    6.910011   -5.359962    0.840019  -19.589981  \n",
       "1   -0.190003   -0.040001   -0.400002    0.660000  \n",
       "2    2.579986    4.790009   -1.760009    3.740021  \n",
       "3    0.130005    1.849999    0.040001    0.540001  \n",
       "4   -0.029999    1.940002    1.130005    0.309998  \n",
       "\n",
       "[5 rows x 964 columns]"
      ]
     },
     "execution_count": 105,
     "metadata": {},
     "output_type": "execute_result"
    }
   ],
   "source": [
    "movements.head()"
   ]
  },
  {
   "cell_type": "code",
   "execution_count": 108,
   "id": "7afe0a61",
   "metadata": {},
   "outputs": [],
   "source": [
    "movements.rename(columns={'Unnamed: 0' : 'companies'} , inplace=True)"
   ]
  },
  {
   "cell_type": "code",
   "execution_count": 109,
   "id": "159e8d4f",
   "metadata": {},
   "outputs": [
    {
     "data": {
      "text/html": [
       "<div>\n",
       "<style scoped>\n",
       "    .dataframe tbody tr th:only-of-type {\n",
       "        vertical-align: middle;\n",
       "    }\n",
       "\n",
       "    .dataframe tbody tr th {\n",
       "        vertical-align: top;\n",
       "    }\n",
       "\n",
       "    .dataframe thead th {\n",
       "        text-align: right;\n",
       "    }\n",
       "</style>\n",
       "<table border=\"1\" class=\"dataframe\">\n",
       "  <thead>\n",
       "    <tr style=\"text-align: right;\">\n",
       "      <th></th>\n",
       "      <th>companies</th>\n",
       "      <th>2010-01-04</th>\n",
       "      <th>2010-01-05</th>\n",
       "      <th>2010-01-06</th>\n",
       "      <th>2010-01-07</th>\n",
       "      <th>2010-01-08</th>\n",
       "      <th>2010-01-11</th>\n",
       "      <th>2010-01-12</th>\n",
       "      <th>2010-01-13</th>\n",
       "      <th>2010-01-14</th>\n",
       "      <th>...</th>\n",
       "      <th>2013-10-16</th>\n",
       "      <th>2013-10-17</th>\n",
       "      <th>2013-10-18</th>\n",
       "      <th>2013-10-21</th>\n",
       "      <th>2013-10-22</th>\n",
       "      <th>2013-10-23</th>\n",
       "      <th>2013-10-24</th>\n",
       "      <th>2013-10-25</th>\n",
       "      <th>2013-10-28</th>\n",
       "      <th>2013-10-29</th>\n",
       "    </tr>\n",
       "  </thead>\n",
       "  <tbody>\n",
       "    <tr>\n",
       "      <th>0</th>\n",
       "      <td>Apple</td>\n",
       "      <td>0.580000</td>\n",
       "      <td>-0.220005</td>\n",
       "      <td>-3.409998</td>\n",
       "      <td>-1.170000</td>\n",
       "      <td>1.680011</td>\n",
       "      <td>-2.689994</td>\n",
       "      <td>-1.469994</td>\n",
       "      <td>2.779997</td>\n",
       "      <td>-0.680003</td>\n",
       "      <td>...</td>\n",
       "      <td>0.320008</td>\n",
       "      <td>4.519997</td>\n",
       "      <td>2.899987</td>\n",
       "      <td>9.590019</td>\n",
       "      <td>-6.540016</td>\n",
       "      <td>5.959976</td>\n",
       "      <td>6.910011</td>\n",
       "      <td>-5.359962</td>\n",
       "      <td>0.840019</td>\n",
       "      <td>-19.589981</td>\n",
       "    </tr>\n",
       "    <tr>\n",
       "      <th>1</th>\n",
       "      <td>AIG</td>\n",
       "      <td>-0.640002</td>\n",
       "      <td>-0.650000</td>\n",
       "      <td>-0.210001</td>\n",
       "      <td>-0.420000</td>\n",
       "      <td>0.710001</td>\n",
       "      <td>-0.200001</td>\n",
       "      <td>-1.130001</td>\n",
       "      <td>0.069999</td>\n",
       "      <td>-0.119999</td>\n",
       "      <td>...</td>\n",
       "      <td>0.919998</td>\n",
       "      <td>0.709999</td>\n",
       "      <td>0.119999</td>\n",
       "      <td>-0.480000</td>\n",
       "      <td>0.010002</td>\n",
       "      <td>-0.279998</td>\n",
       "      <td>-0.190003</td>\n",
       "      <td>-0.040001</td>\n",
       "      <td>-0.400002</td>\n",
       "      <td>0.660000</td>\n",
       "    </tr>\n",
       "    <tr>\n",
       "      <th>2</th>\n",
       "      <td>Amazon</td>\n",
       "      <td>-2.350006</td>\n",
       "      <td>1.260009</td>\n",
       "      <td>-2.350006</td>\n",
       "      <td>-2.009995</td>\n",
       "      <td>2.960006</td>\n",
       "      <td>-2.309997</td>\n",
       "      <td>-1.640007</td>\n",
       "      <td>1.209999</td>\n",
       "      <td>-1.790001</td>\n",
       "      <td>...</td>\n",
       "      <td>2.109985</td>\n",
       "      <td>3.699982</td>\n",
       "      <td>9.570008</td>\n",
       "      <td>-3.450013</td>\n",
       "      <td>4.820008</td>\n",
       "      <td>-4.079986</td>\n",
       "      <td>2.579986</td>\n",
       "      <td>4.790009</td>\n",
       "      <td>-1.760009</td>\n",
       "      <td>3.740021</td>\n",
       "    </tr>\n",
       "    <tr>\n",
       "      <th>3</th>\n",
       "      <td>American express</td>\n",
       "      <td>0.109997</td>\n",
       "      <td>0.000000</td>\n",
       "      <td>0.260002</td>\n",
       "      <td>0.720002</td>\n",
       "      <td>0.190003</td>\n",
       "      <td>-0.270001</td>\n",
       "      <td>0.750000</td>\n",
       "      <td>0.300004</td>\n",
       "      <td>0.639999</td>\n",
       "      <td>...</td>\n",
       "      <td>0.680001</td>\n",
       "      <td>2.290001</td>\n",
       "      <td>0.409996</td>\n",
       "      <td>-0.069999</td>\n",
       "      <td>0.100006</td>\n",
       "      <td>0.069999</td>\n",
       "      <td>0.130005</td>\n",
       "      <td>1.849999</td>\n",
       "      <td>0.040001</td>\n",
       "      <td>0.540001</td>\n",
       "    </tr>\n",
       "    <tr>\n",
       "      <th>4</th>\n",
       "      <td>Boeing</td>\n",
       "      <td>0.459999</td>\n",
       "      <td>1.770000</td>\n",
       "      <td>1.549999</td>\n",
       "      <td>2.690003</td>\n",
       "      <td>0.059997</td>\n",
       "      <td>-1.080002</td>\n",
       "      <td>0.360000</td>\n",
       "      <td>0.549999</td>\n",
       "      <td>0.530002</td>\n",
       "      <td>...</td>\n",
       "      <td>1.559997</td>\n",
       "      <td>2.480003</td>\n",
       "      <td>0.019997</td>\n",
       "      <td>-1.220001</td>\n",
       "      <td>0.480003</td>\n",
       "      <td>3.020004</td>\n",
       "      <td>-0.029999</td>\n",
       "      <td>1.940002</td>\n",
       "      <td>1.130005</td>\n",
       "      <td>0.309998</td>\n",
       "    </tr>\n",
       "  </tbody>\n",
       "</table>\n",
       "<p>5 rows × 964 columns</p>\n",
       "</div>"
      ],
      "text/plain": [
       "          companies  2010-01-04  2010-01-05  2010-01-06  2010-01-07  \\\n",
       "0             Apple    0.580000   -0.220005   -3.409998   -1.170000   \n",
       "1               AIG   -0.640002   -0.650000   -0.210001   -0.420000   \n",
       "2            Amazon   -2.350006    1.260009   -2.350006   -2.009995   \n",
       "3  American express    0.109997    0.000000    0.260002    0.720002   \n",
       "4            Boeing    0.459999    1.770000    1.549999    2.690003   \n",
       "\n",
       "   2010-01-08  2010-01-11  2010-01-12  2010-01-13  2010-01-14  ...  \\\n",
       "0    1.680011   -2.689994   -1.469994    2.779997   -0.680003  ...   \n",
       "1    0.710001   -0.200001   -1.130001    0.069999   -0.119999  ...   \n",
       "2    2.960006   -2.309997   -1.640007    1.209999   -1.790001  ...   \n",
       "3    0.190003   -0.270001    0.750000    0.300004    0.639999  ...   \n",
       "4    0.059997   -1.080002    0.360000    0.549999    0.530002  ...   \n",
       "\n",
       "   2013-10-16  2013-10-17  2013-10-18  2013-10-21  2013-10-22  2013-10-23  \\\n",
       "0    0.320008    4.519997    2.899987    9.590019   -6.540016    5.959976   \n",
       "1    0.919998    0.709999    0.119999   -0.480000    0.010002   -0.279998   \n",
       "2    2.109985    3.699982    9.570008   -3.450013    4.820008   -4.079986   \n",
       "3    0.680001    2.290001    0.409996   -0.069999    0.100006    0.069999   \n",
       "4    1.559997    2.480003    0.019997   -1.220001    0.480003    3.020004   \n",
       "\n",
       "   2013-10-24  2013-10-25  2013-10-28  2013-10-29  \n",
       "0    6.910011   -5.359962    0.840019  -19.589981  \n",
       "1   -0.190003   -0.040001   -0.400002    0.660000  \n",
       "2    2.579986    4.790009   -1.760009    3.740021  \n",
       "3    0.130005    1.849999    0.040001    0.540001  \n",
       "4   -0.029999    1.940002    1.130005    0.309998  \n",
       "\n",
       "[5 rows x 964 columns]"
      ]
     },
     "execution_count": 109,
     "metadata": {},
     "output_type": "execute_result"
    }
   ],
   "source": [
    "movements.head()"
   ]
  },
  {
   "cell_type": "markdown",
   "id": "fc06d21b",
   "metadata": {},
   "source": [
    "Vaow! We are facing a data set with 964 variables. First, let's try to see something by trying to show the data set on the chart."
   ]
  },
  {
   "cell_type": "code",
   "execution_count": 110,
   "id": "6770dd20",
   "metadata": {},
   "outputs": [
    {
     "data": {
      "text/plain": [
       "array(['Apple', 'AIG', 'Amazon', 'American express', 'Boeing',\n",
       "       'Bank of America', 'British American Tobacco', 'Canon',\n",
       "       'Caterpillar', 'Colgate-Palmolive', 'ConocoPhillips', 'Cisco',\n",
       "       'Chevron', 'DuPont de Nemours', 'Dell', 'Ford',\n",
       "       'General Electrics', 'Google/Alphabet', 'Goldman Sachs',\n",
       "       'GlaxoSmithKline', 'Home Depot', 'Honda', 'HP', 'IBM', 'Intel',\n",
       "       'Johnson & Johnson', 'JPMorgan Chase', 'Kimberly-Clark',\n",
       "       'Coca Cola', 'Lookheed Martin', 'MasterCard', 'McDonalds', '3M',\n",
       "       'Microsoft', 'Mitsubishi', 'Navistar', 'Northrop Grumman',\n",
       "       'Novartis', 'Pepsi', 'Pfizer', 'Procter Gamble', 'Philip Morris',\n",
       "       'Royal Dutch Shell', 'SAP', 'Schlumberger', 'Sony',\n",
       "       'Sanofi-Aventis', 'Symantec', 'Toyota', 'Total',\n",
       "       'Taiwan Semiconductor Manufacturing', 'Texas instruments',\n",
       "       'Unilever', 'Valero Energy', 'Walgreen', 'Wells Fargo', 'Wal-Mart',\n",
       "       'Exxon', 'Xerox', 'Yahoo'], dtype=object)"
      ]
     },
     "execution_count": 110,
     "metadata": {},
     "output_type": "execute_result"
    }
   ],
   "source": [
    "movements['companies'].unique()"
   ]
  },
  {
   "cell_type": "markdown",
   "id": "df1c1f87",
   "metadata": {},
   "source": [
    "When we examine our data set, we have 964 variables and we need to make sense of these variables and make a clustering process.\n",
    "- Our clusters will be according to companies. For example, Toyota and Ford can be a cluster because they are both car companies and we will be extracting this relationship from the data."
   ]
  },
  {
   "cell_type": "code",
   "execution_count": 185,
   "id": "e4dcdefb",
   "metadata": {},
   "outputs": [],
   "source": [
    "companies = list(movements['companies'].unique())"
   ]
  },
  {
   "cell_type": "code",
   "execution_count": 120,
   "id": "f3122e9c",
   "metadata": {},
   "outputs": [],
   "source": [
    "data = movements.iloc[:,1:].values"
   ]
  },
  {
   "cell_type": "code",
   "execution_count": 128,
   "id": "9069fb2d",
   "metadata": {},
   "outputs": [
    {
     "data": {
      "image/png": "[encoded data removed]",
      "text/plain": [
       "<Figure size 432x288 with 1 Axes>"
      ]
     },
     "metadata": {},
     "output_type": "display_data"
    }
   ],
   "source": [
    "x = data[:,0]\n",
    "y = data[:,1]\n",
    "\n",
    "sns.scatterplot(x, y, hue = classes)\n",
    "plt.legend([],[], frameon=False)\n",
    "plt.show()"
   ]
  },
  {
   "cell_type": "markdown",
   "id": "b5dae604",
   "metadata": {},
   "source": [
    "I'm trying to find a meaning by choosing only two variables, or I can try different combinations of variables, but it seems like I can't reach a result. In such a case, if we use t-SNE, we can both reduce the variables and start to make sense.\n",
    "\n",
    "First of all, I will be applying the normalization process, which is one of our golden rules."
   ]
  },
  {
   "cell_type": "code",
   "execution_count": 129,
   "id": "3bb1f003",
   "metadata": {},
   "outputs": [],
   "source": [
    "norm_data = normalize(data)"
   ]
  },
  {
   "cell_type": "code",
   "execution_count": 180,
   "id": "de40a758",
   "metadata": {},
   "outputs": [],
   "source": [
    "tsne = TSNE(learning_rate = 50)"
   ]
  },
  {
   "cell_type": "markdown",
   "id": "b17356b2",
   "metadata": {},
   "source": [
    "As you increase the number of **learning_rate**, you'll see it get closer to each other as it is given. If you want the relationship to be less clustered instead of multi-cluster, the value can be increased learning_rate, but in our current data set, we will be making a distinction according to the types of companies, which shows that there will be quite a number of clusters. That's why I choose a lower learning_rate value. You can examine the charts by changing the value of the learning_rate."
   ]
  },
  {
   "cell_type": "code",
   "execution_count": 181,
   "id": "c03081e0",
   "metadata": {},
   "outputs": [],
   "source": [
    "transformed_data = tsne.fit_transform(norm_data)"
   ]
  },
  {
   "cell_type": "code",
   "execution_count": 186,
   "id": "e317f788",
   "metadata": {},
   "outputs": [
    {
     "data": {
      "image/png": "[encoded data removed]",
      "text/plain": [
       "<Figure size 432x288 with 1 Axes>"
      ]
     },
     "metadata": {},
     "output_type": "display_data"
    }
   ],
   "source": [
    "xs = transformed_data[:,0]\n",
    "ys = transformed_data[:,1]\n",
    "\n",
    "sns.scatterplot(xs , ys , hue = companies)\n",
    "plt.legend([],[], frameon=False)\n",
    "plt.show()"
   ]
  },
  {
   "cell_type": "markdown",
   "id": "05f88391",
   "metadata": {},
   "source": [
    "When you examine the graph, I seem to hear what I have to make of it:) But we can see some friendly data, which is a good sign. Let's go ahead and do a different graphical representation."
   ]
  },
  {
   "cell_type": "code",
   "execution_count": 187,
   "id": "971a57be",
   "metadata": {},
   "outputs": [
    {
     "data": {
      "image/png": "[encoded data removed]",
      "text/plain": [
       "<Figure size 720x576 with 1 Axes>"
      ]
     },
     "metadata": {},
     "output_type": "display_data"
    }
   ],
   "source": [
    "plt.figure(figsize=(10,8))\n",
    "plt.scatter(xs , ys,alpha=0.6)\n",
    "for x, y, company in zip(xs, ys, companies):\n",
    "    plt.annotate(company, (x, y), fontsize=8, alpha=0.75)\n",
    "plt.show()"
   ]
  },
  {
   "cell_type": "markdown",
   "id": "5c59761d",
   "metadata": {},
   "source": [
    "When we look at the values that are close to each other, they are actually very relevant companies. We can say that we have created a relationship that is not bad.\n",
    "\n",
    "Now let's try to make it look a little better by doing it with the hierarchical set, which I think is supported by t-SNE."
   ]
  },
  {
   "cell_type": "code",
   "execution_count": 232,
   "id": "cb51e3e0",
   "metadata": {},
   "outputs": [],
   "source": [
    "mergens = linkage(transformed_data , method='ward')"
   ]
  },
  {
   "cell_type": "markdown",
   "id": "24697f25",
   "metadata": {},
   "source": [
    "With t-SNE, I will be trying to show the reduced data set on the dendrogram by giving it to the linkage method."
   ]
  },
  {
   "cell_type": "code",
   "execution_count": 233,
   "id": "0a5f0fb9",
   "metadata": {},
   "outputs": [
    {
     "data": {
      "image/png": "[encoded data removed]",
      "text/plain": [
       "<Figure size 1080x576 with 1 Axes>"
      ]
     },
     "metadata": {},
     "output_type": "display_data"
    }
   ],
   "source": [
    "plt.figure(figsize=(15,8))\n",
    "dendrogram(mergens, labels = companies,leaf_font_size=11)\n",
    "plt.show()"
   ]
  },
  {
   "cell_type": "markdown",
   "id": "e9f838e2",
   "metadata": {},
   "source": [
    "When we examine it through the Dendrogram graph, we can see that car companies are grouped in the same way that technology companies are grouped to a not bad extent."
   ]
  },
  {
   "cell_type": "code",
   "execution_count": 234,
   "id": "3ce92006",
   "metadata": {},
   "outputs": [],
   "source": [
    "company_labels = fcluster(mergens , t = 2 , criterion= 'distance')"
   ]
  },
  {
   "cell_type": "code",
   "execution_count": 239,
   "id": "87fc4277",
   "metadata": {},
   "outputs": [],
   "source": [
    "df = pd.DataFrame({'labels' : company_labels , 'companies' : companies}).sort_values(by = 'labels')"
   ]
  },
  {
   "cell_type": "code",
   "execution_count": 240,
   "id": "5272ab02",
   "metadata": {
    "scrolled": true
   },
   "outputs": [
    {
     "data": {
      "text/html": [
       "<div>\n",
       "<style scoped>\n",
       "    .dataframe tbody tr th:only-of-type {\n",
       "        vertical-align: middle;\n",
       "    }\n",
       "\n",
       "    .dataframe tbody tr th {\n",
       "        vertical-align: top;\n",
       "    }\n",
       "\n",
       "    .dataframe thead th {\n",
       "        text-align: right;\n",
       "    }\n",
       "</style>\n",
       "<table border=\"1\" class=\"dataframe\">\n",
       "  <thead>\n",
       "    <tr style=\"text-align: right;\">\n",
       "      <th></th>\n",
       "      <th>labels</th>\n",
       "      <th>companies</th>\n",
       "    </tr>\n",
       "  </thead>\n",
       "  <tbody>\n",
       "    <tr>\n",
       "      <th>25</th>\n",
       "      <td>1</td>\n",
       "      <td>Johnson &amp; Johnson</td>\n",
       "    </tr>\n",
       "    <tr>\n",
       "      <th>39</th>\n",
       "      <td>1</td>\n",
       "      <td>Pfizer</td>\n",
       "    </tr>\n",
       "    <tr>\n",
       "      <th>54</th>\n",
       "      <td>1</td>\n",
       "      <td>Walgreen</td>\n",
       "    </tr>\n",
       "    <tr>\n",
       "      <th>28</th>\n",
       "      <td>2</td>\n",
       "      <td>Coca Cola</td>\n",
       "    </tr>\n",
       "    <tr>\n",
       "      <th>41</th>\n",
       "      <td>2</td>\n",
       "      <td>Philip Morris</td>\n",
       "    </tr>\n",
       "    <tr>\n",
       "      <th>38</th>\n",
       "      <td>2</td>\n",
       "      <td>Pepsi</td>\n",
       "    </tr>\n",
       "    <tr>\n",
       "      <th>56</th>\n",
       "      <td>3</td>\n",
       "      <td>Wal-Mart</td>\n",
       "    </tr>\n",
       "    <tr>\n",
       "      <th>27</th>\n",
       "      <td>3</td>\n",
       "      <td>Kimberly-Clark</td>\n",
       "    </tr>\n",
       "    <tr>\n",
       "      <th>40</th>\n",
       "      <td>3</td>\n",
       "      <td>Procter Gamble</td>\n",
       "    </tr>\n",
       "    <tr>\n",
       "      <th>9</th>\n",
       "      <td>3</td>\n",
       "      <td>Colgate-Palmolive</td>\n",
       "    </tr>\n",
       "    <tr>\n",
       "      <th>35</th>\n",
       "      <td>4</td>\n",
       "      <td>Navistar</td>\n",
       "    </tr>\n",
       "    <tr>\n",
       "      <th>53</th>\n",
       "      <td>4</td>\n",
       "      <td>Valero Energy</td>\n",
       "    </tr>\n",
       "    <tr>\n",
       "      <th>32</th>\n",
       "      <td>5</td>\n",
       "      <td>3M</td>\n",
       "    </tr>\n",
       "    <tr>\n",
       "      <th>49</th>\n",
       "      <td>5</td>\n",
       "      <td>Total</td>\n",
       "    </tr>\n",
       "    <tr>\n",
       "      <th>12</th>\n",
       "      <td>5</td>\n",
       "      <td>Chevron</td>\n",
       "    </tr>\n",
       "    <tr>\n",
       "      <th>10</th>\n",
       "      <td>5</td>\n",
       "      <td>ConocoPhillips</td>\n",
       "    </tr>\n",
       "    <tr>\n",
       "      <th>8</th>\n",
       "      <td>5</td>\n",
       "      <td>Caterpillar</td>\n",
       "    </tr>\n",
       "    <tr>\n",
       "      <th>42</th>\n",
       "      <td>5</td>\n",
       "      <td>Royal Dutch Shell</td>\n",
       "    </tr>\n",
       "    <tr>\n",
       "      <th>43</th>\n",
       "      <td>5</td>\n",
       "      <td>SAP</td>\n",
       "    </tr>\n",
       "    <tr>\n",
       "      <th>57</th>\n",
       "      <td>5</td>\n",
       "      <td>Exxon</td>\n",
       "    </tr>\n",
       "    <tr>\n",
       "      <th>44</th>\n",
       "      <td>5</td>\n",
       "      <td>Schlumberger</td>\n",
       "    </tr>\n",
       "    <tr>\n",
       "      <th>13</th>\n",
       "      <td>5</td>\n",
       "      <td>DuPont de Nemours</td>\n",
       "    </tr>\n",
       "    <tr>\n",
       "      <th>37</th>\n",
       "      <td>6</td>\n",
       "      <td>Novartis</td>\n",
       "    </tr>\n",
       "    <tr>\n",
       "      <th>52</th>\n",
       "      <td>6</td>\n",
       "      <td>Unilever</td>\n",
       "    </tr>\n",
       "    <tr>\n",
       "      <th>46</th>\n",
       "      <td>6</td>\n",
       "      <td>Sanofi-Aventis</td>\n",
       "    </tr>\n",
       "    <tr>\n",
       "      <th>19</th>\n",
       "      <td>6</td>\n",
       "      <td>GlaxoSmithKline</td>\n",
       "    </tr>\n",
       "    <tr>\n",
       "      <th>6</th>\n",
       "      <td>6</td>\n",
       "      <td>British American Tobacco</td>\n",
       "    </tr>\n",
       "    <tr>\n",
       "      <th>21</th>\n",
       "      <td>7</td>\n",
       "      <td>Honda</td>\n",
       "    </tr>\n",
       "    <tr>\n",
       "      <th>48</th>\n",
       "      <td>7</td>\n",
       "      <td>Toyota</td>\n",
       "    </tr>\n",
       "    <tr>\n",
       "      <th>34</th>\n",
       "      <td>7</td>\n",
       "      <td>Mitsubishi</td>\n",
       "    </tr>\n",
       "    <tr>\n",
       "      <th>45</th>\n",
       "      <td>7</td>\n",
       "      <td>Sony</td>\n",
       "    </tr>\n",
       "    <tr>\n",
       "      <th>7</th>\n",
       "      <td>7</td>\n",
       "      <td>Canon</td>\n",
       "    </tr>\n",
       "    <tr>\n",
       "      <th>20</th>\n",
       "      <td>8</td>\n",
       "      <td>Home Depot</td>\n",
       "    </tr>\n",
       "    <tr>\n",
       "      <th>31</th>\n",
       "      <td>8</td>\n",
       "      <td>McDonalds</td>\n",
       "    </tr>\n",
       "    <tr>\n",
       "      <th>26</th>\n",
       "      <td>9</td>\n",
       "      <td>JPMorgan Chase</td>\n",
       "    </tr>\n",
       "    <tr>\n",
       "      <th>1</th>\n",
       "      <td>9</td>\n",
       "      <td>AIG</td>\n",
       "    </tr>\n",
       "    <tr>\n",
       "      <th>18</th>\n",
       "      <td>9</td>\n",
       "      <td>Goldman Sachs</td>\n",
       "    </tr>\n",
       "    <tr>\n",
       "      <th>5</th>\n",
       "      <td>9</td>\n",
       "      <td>Bank of America</td>\n",
       "    </tr>\n",
       "    <tr>\n",
       "      <th>15</th>\n",
       "      <td>9</td>\n",
       "      <td>Ford</td>\n",
       "    </tr>\n",
       "    <tr>\n",
       "      <th>55</th>\n",
       "      <td>9</td>\n",
       "      <td>Wells Fargo</td>\n",
       "    </tr>\n",
       "    <tr>\n",
       "      <th>4</th>\n",
       "      <td>10</td>\n",
       "      <td>Boeing</td>\n",
       "    </tr>\n",
       "    <tr>\n",
       "      <th>29</th>\n",
       "      <td>10</td>\n",
       "      <td>Lookheed Martin</td>\n",
       "    </tr>\n",
       "    <tr>\n",
       "      <th>36</th>\n",
       "      <td>10</td>\n",
       "      <td>Northrop Grumman</td>\n",
       "    </tr>\n",
       "    <tr>\n",
       "      <th>30</th>\n",
       "      <td>11</td>\n",
       "      <td>MasterCard</td>\n",
       "    </tr>\n",
       "    <tr>\n",
       "      <th>3</th>\n",
       "      <td>11</td>\n",
       "      <td>American express</td>\n",
       "    </tr>\n",
       "    <tr>\n",
       "      <th>58</th>\n",
       "      <td>11</td>\n",
       "      <td>Xerox</td>\n",
       "    </tr>\n",
       "    <tr>\n",
       "      <th>16</th>\n",
       "      <td>11</td>\n",
       "      <td>General Electrics</td>\n",
       "    </tr>\n",
       "    <tr>\n",
       "      <th>0</th>\n",
       "      <td>12</td>\n",
       "      <td>Apple</td>\n",
       "    </tr>\n",
       "    <tr>\n",
       "      <th>17</th>\n",
       "      <td>12</td>\n",
       "      <td>Google/Alphabet</td>\n",
       "    </tr>\n",
       "    <tr>\n",
       "      <th>2</th>\n",
       "      <td>12</td>\n",
       "      <td>Amazon</td>\n",
       "    </tr>\n",
       "    <tr>\n",
       "      <th>59</th>\n",
       "      <td>12</td>\n",
       "      <td>Yahoo</td>\n",
       "    </tr>\n",
       "    <tr>\n",
       "      <th>33</th>\n",
       "      <td>13</td>\n",
       "      <td>Microsoft</td>\n",
       "    </tr>\n",
       "    <tr>\n",
       "      <th>23</th>\n",
       "      <td>13</td>\n",
       "      <td>IBM</td>\n",
       "    </tr>\n",
       "    <tr>\n",
       "      <th>11</th>\n",
       "      <td>13</td>\n",
       "      <td>Cisco</td>\n",
       "    </tr>\n",
       "    <tr>\n",
       "      <th>47</th>\n",
       "      <td>13</td>\n",
       "      <td>Symantec</td>\n",
       "    </tr>\n",
       "    <tr>\n",
       "      <th>24</th>\n",
       "      <td>14</td>\n",
       "      <td>Intel</td>\n",
       "    </tr>\n",
       "    <tr>\n",
       "      <th>50</th>\n",
       "      <td>14</td>\n",
       "      <td>Taiwan Semiconductor Manufacturing</td>\n",
       "    </tr>\n",
       "    <tr>\n",
       "      <th>51</th>\n",
       "      <td>14</td>\n",
       "      <td>Texas instruments</td>\n",
       "    </tr>\n",
       "    <tr>\n",
       "      <th>22</th>\n",
       "      <td>14</td>\n",
       "      <td>HP</td>\n",
       "    </tr>\n",
       "    <tr>\n",
       "      <th>14</th>\n",
       "      <td>14</td>\n",
       "      <td>Dell</td>\n",
       "    </tr>\n",
       "  </tbody>\n",
       "</table>\n",
       "</div>"
      ],
      "text/plain": [
       "    labels                           companies\n",
       "25       1                   Johnson & Johnson\n",
       "39       1                              Pfizer\n",
       "54       1                            Walgreen\n",
       "28       2                           Coca Cola\n",
       "41       2                       Philip Morris\n",
       "38       2                               Pepsi\n",
       "56       3                            Wal-Mart\n",
       "27       3                      Kimberly-Clark\n",
       "40       3                      Procter Gamble\n",
       "9        3                   Colgate-Palmolive\n",
       "35       4                            Navistar\n",
       "53       4                       Valero Energy\n",
       "32       5                                  3M\n",
       "49       5                               Total\n",
       "12       5                             Chevron\n",
       "10       5                      ConocoPhillips\n",
       "8        5                         Caterpillar\n",
       "42       5                   Royal Dutch Shell\n",
       "43       5                                 SAP\n",
       "57       5                               Exxon\n",
       "44       5                        Schlumberger\n",
       "13       5                   DuPont de Nemours\n",
       "37       6                            Novartis\n",
       "52       6                            Unilever\n",
       "46       6                      Sanofi-Aventis\n",
       "19       6                     GlaxoSmithKline\n",
       "6        6            British American Tobacco\n",
       "21       7                               Honda\n",
       "48       7                              Toyota\n",
       "34       7                          Mitsubishi\n",
       "45       7                                Sony\n",
       "7        7                               Canon\n",
       "20       8                          Home Depot\n",
       "31       8                           McDonalds\n",
       "26       9                      JPMorgan Chase\n",
       "1        9                                 AIG\n",
       "18       9                       Goldman Sachs\n",
       "5        9                     Bank of America\n",
       "15       9                                Ford\n",
       "55       9                         Wells Fargo\n",
       "4       10                              Boeing\n",
       "29      10                     Lookheed Martin\n",
       "36      10                    Northrop Grumman\n",
       "30      11                          MasterCard\n",
       "3       11                    American express\n",
       "58      11                               Xerox\n",
       "16      11                   General Electrics\n",
       "0       12                               Apple\n",
       "17      12                     Google/Alphabet\n",
       "2       12                              Amazon\n",
       "59      12                               Yahoo\n",
       "33      13                           Microsoft\n",
       "23      13                                 IBM\n",
       "11      13                               Cisco\n",
       "47      13                            Symantec\n",
       "24      14                               Intel\n",
       "50      14  Taiwan Semiconductor Manufacturing\n",
       "51      14                   Texas instruments\n",
       "22      14                                  HP\n",
       "14      14                                Dell"
      ]
     },
     "execution_count": 240,
     "metadata": {},
     "output_type": "execute_result"
    }
   ],
   "source": [
    "df"
   ]
  },
  {
   "cell_type": "markdown",
   "id": "80caa9c6",
   "metadata": {},
   "source": [
    "I wanted to see what kind of clustering occurs by choosing my threshold value (t) 2, and the result seems to be quite similar companies gathered together as you can see above."
   ]
  },
  {
   "cell_type": "markdown",
   "id": "c9b2711e",
   "metadata": {},
   "source": [
    "## <a name=\"3\">PCA (Principal Compenent Analysis)</a>\n",
    "\n",
    "PCA is a useful statistical technique used in the fields of recognition, classification, image compression. It is a technique whose main purpose is to keep the data set with the highest variance in high-dimensional data, but to provide dimension reduction while doing so. It finds general properties in oversized data to reduce the number of sizes and compress the data. It is certain that some properties will be lost with the reduction in size; but the intent is that these lost traits contain little information about the population. This method combines highly correlated variables to create a smaller set of artificial variables, called 'key components,' that make up the most variation in the data.\n",
    "\n",
    "PCA is a very effective method of revealing the necessary information in the data. The basic logic behind PCA is to represent a multidimensional data with a smaller number of variables by capturing the basic characteristics in the data.\n",
    "\n",
    "In order to make PCA on our data set, we need to call the PCA method from the sklearn library."
   ]
  },
  {
   "cell_type": "code",
   "execution_count": 243,
   "id": "959debb4",
   "metadata": {},
   "outputs": [],
   "source": [
    "df = pd.read_csv('dataset/Iris.csv')"
   ]
  },
  {
   "cell_type": "code",
   "execution_count": 244,
   "id": "9d3e85ac",
   "metadata": {},
   "outputs": [],
   "source": [
    "df.drop('Id', axis = 1 ,inplace=True)"
   ]
  },
  {
   "cell_type": "code",
   "execution_count": 245,
   "id": "2ac76857",
   "metadata": {
    "scrolled": true
   },
   "outputs": [
    {
     "data": {
      "text/html": [
       "<div>\n",
       "<style scoped>\n",
       "    .dataframe tbody tr th:only-of-type {\n",
       "        vertical-align: middle;\n",
       "    }\n",
       "\n",
       "    .dataframe tbody tr th {\n",
       "        vertical-align: top;\n",
       "    }\n",
       "\n",
       "    .dataframe thead th {\n",
       "        text-align: right;\n",
       "    }\n",
       "</style>\n",
       "<table border=\"1\" class=\"dataframe\">\n",
       "  <thead>\n",
       "    <tr style=\"text-align: right;\">\n",
       "      <th></th>\n",
       "      <th>SepalLengthCm</th>\n",
       "      <th>SepalWidthCm</th>\n",
       "      <th>PetalLengthCm</th>\n",
       "      <th>PetalWidthCm</th>\n",
       "      <th>Species</th>\n",
       "    </tr>\n",
       "  </thead>\n",
       "  <tbody>\n",
       "    <tr>\n",
       "      <th>0</th>\n",
       "      <td>5.1</td>\n",
       "      <td>3.5</td>\n",
       "      <td>1.4</td>\n",
       "      <td>0.2</td>\n",
       "      <td>Iris-setosa</td>\n",
       "    </tr>\n",
       "    <tr>\n",
       "      <th>1</th>\n",
       "      <td>4.9</td>\n",
       "      <td>3.0</td>\n",
       "      <td>1.4</td>\n",
       "      <td>0.2</td>\n",
       "      <td>Iris-setosa</td>\n",
       "    </tr>\n",
       "    <tr>\n",
       "      <th>2</th>\n",
       "      <td>4.7</td>\n",
       "      <td>3.2</td>\n",
       "      <td>1.3</td>\n",
       "      <td>0.2</td>\n",
       "      <td>Iris-setosa</td>\n",
       "    </tr>\n",
       "    <tr>\n",
       "      <th>3</th>\n",
       "      <td>4.6</td>\n",
       "      <td>3.1</td>\n",
       "      <td>1.5</td>\n",
       "      <td>0.2</td>\n",
       "      <td>Iris-setosa</td>\n",
       "    </tr>\n",
       "    <tr>\n",
       "      <th>4</th>\n",
       "      <td>5.0</td>\n",
       "      <td>3.6</td>\n",
       "      <td>1.4</td>\n",
       "      <td>0.2</td>\n",
       "      <td>Iris-setosa</td>\n",
       "    </tr>\n",
       "  </tbody>\n",
       "</table>\n",
       "</div>"
      ],
      "text/plain": [
       "   SepalLengthCm  SepalWidthCm  PetalLengthCm  PetalWidthCm      Species\n",
       "0            5.1           3.5            1.4           0.2  Iris-setosa\n",
       "1            4.9           3.0            1.4           0.2  Iris-setosa\n",
       "2            4.7           3.2            1.3           0.2  Iris-setosa\n",
       "3            4.6           3.1            1.5           0.2  Iris-setosa\n",
       "4            5.0           3.6            1.4           0.2  Iris-setosa"
      ]
     },
     "execution_count": 245,
     "metadata": {},
     "output_type": "execute_result"
    }
   ],
   "source": [
    "df.head()"
   ]
  },
  {
   "cell_type": "code",
   "execution_count": 246,
   "id": "7d6789e1",
   "metadata": {},
   "outputs": [],
   "source": [
    "X = df.iloc[:,0:4]\n",
    "y = LabelEncoder().fit_transform(df['Species'])"
   ]
  },
  {
   "cell_type": "code",
   "execution_count": 247,
   "id": "bbec5718",
   "metadata": {},
   "outputs": [
    {
     "data": {
      "image/png": "[encoded data removed]",
      "text/plain": [
       "<Figure size 432x288 with 1 Axes>"
      ]
     },
     "metadata": {},
     "output_type": "display_data"
    }
   ],
   "source": [
    "pca = PCA(n_components=2)\n",
    "\n",
    "# fit_transform\n",
    "x_pca = pca.fit_transform(X)\n",
    "\n",
    "# xs : firs columns , ys : second columns\n",
    "xs = x_pca[:,0]\n",
    "ys = x_pca[:,1]\n",
    "\n",
    "\n",
    "plt.scatter(xs, ys,c = y ,cmap='plasma')\n",
    "plt.show()"
   ]
  },
  {
   "cell_type": "markdown",
   "id": "cc4cc5a8",
   "metadata": {},
   "source": [
    "First of all, we start with calling the PCA object. The PCA object takes the very important parameter **'n_components'**. This parameter is the parameter by which we determine how many dimensions we will reduce. We select 2 for this data set, but there are some methods for selecting n_components value, and we'll be talking about that method later.\n",
    "\n",
    "The PCA object has two methods.\n",
    "- fit performs the learning process with data.\n",
    "- fit_transform both learns and applies the transformation on the data set or applies it on the variable we equalize.\n",
    "\n",
    "Since we have chosen the value 2, the result will be two-dimensional and ``x_pca[:,0]`` represents the x axis and ``x_pca[:,1]`` is represented by the y axis. After defining these values, we can visualize them through the scatter plot.\n",
    "\n",
    "After specifying the x and y axis in the scatter plot, we can see the color painting by specifying our ethics numerically on the 'c' parameter and the clustering structure with 2 variables.\n"
   ]
  },
  {
   "cell_type": "markdown",
   "id": "280eeb28",
   "metadata": {},
   "source": [
    "### Number of Components"
   ]
  },
  {
   "cell_type": "markdown",
   "id": "4cc82412",
   "metadata": {},
   "source": [
    "Think of this dataset with 2 characteristics: latitude and longitude. These two features can track the flight of an aircraft, for example. This dataset is 2-dimensional, but it turns out that it can be predicted closely using a single feature: displacement along the flight path. This dataset is essentially one-dimensional.\n",
    "\n",
    "The intrinsic size of a dataset is the number of properties required to approach it. The intrinsic dimension informs about dimension reduction because it tells us how much a dataset can be compressed.\n",
    "**PCA(n_components)** It is very important to select the n_components value in PCA application.\n",
    "- n_components asks how many variables to reduce our total number of variables to. So the inner dimension is the parameter we give, diyebiliriz.n_components there are multiple methods to find its value, and we'll be looking at some of them.\n",
    "\n",
    "- Specifying the number to be reduced by specifying variance, when we extend our data set to a certain variable, the variables have variance. The higher this value, the more meaning that variable means.Let's consider a reduction with 3 variables.Let the variables 'PCA1', 'PCA1' and 'PCA3'. Let's assume that the variant PCA1 has a variance of 0.55, while PCA2 has a value of 0.50 and PCA3 has a value of 0.5.The first variable has very high values, but it would be more accurate to choose 2 variables instead of a 3-variable structure with a very low variance. Because the 3rd variable has little to no effect on the data set.**These values do not only take between 0-1, they are the high differences between them that we need to look at.**\n",
    "\n",
    "**n_components** value can specify what kind of variance should be by giving float values from 0 to 1.'0.95-0.99' are usually given values.\n",
    "\n",
    "We can use the ``pca.explained_variance_``method to see the variance of the variables."
   ]
  },
  {
   "cell_type": "code",
   "execution_count": 248,
   "id": "b1fa8bdb",
   "metadata": {},
   "outputs": [
    {
     "data": {
      "text/plain": [
       "array([4.22484077, 0.24224357])"
      ]
     },
     "execution_count": 248,
     "metadata": {},
     "output_type": "execute_result"
    }
   ],
   "source": [
    "variances = pca.explained_variance_\n",
    "variances"
   ]
  },
  {
   "cell_type": "markdown",
   "id": "74e2c9a9",
   "metadata": {},
   "source": [
    "We can examine the results by giving more value to the variance values resulting from the reduction to 2 variables."
   ]
  },
  {
   "cell_type": "code",
   "execution_count": 249,
   "id": "f5211006",
   "metadata": {},
   "outputs": [
    {
     "data": {
      "text/plain": [
       "array([5.84333333, 3.054     , 3.75866667, 1.19866667])"
      ]
     },
     "execution_count": 249,
     "metadata": {},
     "output_type": "execute_result"
    }
   ],
   "source": [
    "pca.mean_"
   ]
  },
  {
   "cell_type": "code",
   "execution_count": 250,
   "id": "1491a46b",
   "metadata": {
    "scrolled": true
   },
   "outputs": [
    {
     "data": {
      "text/plain": [
       "array([[ 0.36158968, -0.08226889,  0.85657211,  0.35884393],\n",
       "       [ 0.65653988,  0.72971237, -0.1757674 , -0.07470647]])"
      ]
     },
     "execution_count": 250,
     "metadata": {},
     "output_type": "execute_result"
    }
   ],
   "source": [
    "pca.components_"
   ]
  },
  {
   "cell_type": "markdown",
   "id": "78120b0e",
   "metadata": {},
   "source": [
    "Let's show the variance of variables on the barplot."
   ]
  },
  {
   "cell_type": "code",
   "execution_count": 251,
   "id": "715500aa",
   "metadata": {
    "scrolled": true
   },
   "outputs": [
    {
     "data": {
      "image/png": "[encoded data removed]",
      "text/plain": [
       "<Figure size 432x288 with 1 Axes>"
      ]
     },
     "metadata": {},
     "output_type": "display_data"
    }
   ],
   "source": [
    "features = range(pca.n_components_)\n",
    "variances = pca.explained_variance_\n",
    "\n",
    "plt.bar(features, variances)\n",
    "plt.xlabel('PCA features')\n",
    "plt.ylabel('variance')\n",
    "plt.xticks(features)\n",
    "plt.show()\n",
    "plt.show()"
   ]
  },
  {
   "cell_type": "markdown",
   "id": "6e809112",
   "metadata": {},
   "source": [
    "Performing a two-variable reduction seems appropriate for this data set.When we try with 3 variables, the variance of the 3rd variable will be lower and 1 variable reduction is not done on the PCA.\n",
    "\n",
    "**n_components** It is much more recommended to give variance rather than manually selecting it."
   ]
  },
  {
   "cell_type": "markdown",
   "id": "cafdb287",
   "metadata": {},
   "source": [
    "**THANK YOU FOR READING SO FAR.I WANTED TO TOUCH ON THE MOST COMMON CLUSTERING TECHNIQUES.I AM SURE THERE HAVE BEEN PLACES WHERE I HAVE DONE WRONG I WOULD BE VERY HAPPY IF YOU COULD POINT THIS OUT.I WISH EVERYONE GOOD WORK**"
   ]
  }
 ],
 "metadata": {
  "kernelspec": {
   "display_name": "Python 3 (ipykernel)",
   "language": "python",
   "name": "python3"
  },
  "language_info": {
   "codemirror_mode": {
    "name": "ipython",
    "version": 3
   },
   "file_extension": ".py",
   "mimetype": "text/x-python",
   "name": "python",
   "nbconvert_exporter": "python",
   "pygments_lexer": "ipython3",
   "version": "3.9.12"
  }
 },
 "nbformat": 4,
 "nbformat_minor": 5
}
